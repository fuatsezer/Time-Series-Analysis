{
 "cells": [
  {
   "cell_type": "markdown",
   "metadata": {},
   "source": [
    "# Project: Annual Water Usage in Baltimore\n",
    "Zaman serisi tahmini bir süreçtir ve iyi tahminler almanın tek yolu bu süreci uygulamaktır. Bu yazıda, Python ile Baltimore'da yıllık su kullanımının nasıl tahmin edileceğini keşfedeceksiniz. Bu eğitimde çalışmak, kendi zaman serisi tahmin sorunlarınız üzerinde çalışmak için adımlar ve araçlar için bir çerçeve sağlayacaktır."
   ]
  },
  {
   "cell_type": "markdown",
   "metadata": {},
   "source": [
    "Bu derste, uçtan uca, veri kümesini indirmekten ve sorunu tanımlamaktan nihai bir modeli eğitmeye ve tahminler yapmaya kadar bir zaman serisi tahmini projesi üzerinde çalışacağız. Bu proje kapsamlı değildir, ancak problemi sistematik olarak tahmin eden bir zaman serisi tahminiyle nasıl hızlı bir şekilde iyi sonuçlar alabileceğinizi gösterir. Bu projenin üzerinde çalışacağımız adımlar aşağıdaki gibidir.\n",
    "1. Problem Description. \n",
    "2. Test Harness.\n",
    "3. Persistence.\n",
    "4. Data Analysis.\n",
    "5. ARIMA Models.\n",
    "6. Model Validation."
   ]
  },
  {
   "cell_type": "markdown",
   "metadata": {},
   "source": [
    "## Problem Description\n",
    "Sorun yıllık su kullanımını tahmin etmektir. Veri kümesi Baltimore'da yıllık su kullanımını 1885'den 1963'e veya 79 yıllık verilerden sağlıyor. Değerler kişi başına günlük litre birimindedir ve 79 gözlem vardır."
   ]
  },
  {
   "cell_type": "markdown",
   "metadata": {},
   "source": [
    "## Test Harness\n",
    "Verileri araştırmak ve aday modelleri değerlendirmek için bir test bandı geliştirmeliyiz. Bu iki adımdan oluşur:\n",
    "* Defining a Validation Dataset.\n",
    "* Developing a Method for Model Evaluation.\n"
   ]
  },
  {
   "cell_type": "markdown",
   "metadata": {},
   "source": [
    "## Validation Dataset"
   ]
  },
  {
   "cell_type": "markdown",
   "metadata": {},
   "source": [
    "Veri kümesi güncel değil. Bu, modeli doğrulamak için güncellenmiş verileri kolayca toplayamayacağımız anlamına gelir. Bu nedenle, 1953 gibi davranacağız ve analiz ve model seçiminden son 10 yıllık verileri saklayacağız. Bu son on veri, nihai modeli doğrulamak için kullanılacaktır."
   ]
  },
  {
   "cell_type": "code",
   "execution_count": 13,
   "metadata": {},
   "outputs": [
    {
     "name": "stdout",
     "output_type": "stream",
     "text": [
      "Dataset 69, Validation 10\n"
     ]
    }
   ],
   "source": [
    "# separate out a validation dataset\n",
    "from pandas import read_csv\n",
    "series = read_csv('water.csv',sep=\";\", header=0, index_col=0, parse_dates=True, squeeze=True)\n",
    "series = series[0:79]\n",
    "split_point = len(series) - 10\n",
    "dataset, validation = series[0:split_point], series[split_point:]\n",
    "print('Dataset %d, Validation %d' % (len(dataset), len(validation))) \n",
    "dataset.to_csv('dataset.csv', header=False)\n",
    "validation.to_csv('validation.csv', header=False)"
   ]
  },
  {
   "cell_type": "code",
   "execution_count": 14,
   "metadata": {},
   "outputs": [
    {
     "data": {
      "text/plain": [
       "Year\n",
       "1885-01-01    356.0\n",
       "1886-01-01    386.0\n",
       "1887-01-01    397.0\n",
       "1888-01-01    397.0\n",
       "1889-01-01    413.0\n",
       "              ...  \n",
       "1959-01-01    594.0\n",
       "1960-01-01    587.0\n",
       "1961-01-01    587.0\n",
       "1962-01-01    625.0\n",
       "1963-01-01    613.0\n",
       "Name: Water, Length: 79, dtype: float64"
      ]
     },
     "execution_count": 14,
     "metadata": {},
     "output_type": "execute_result"
    }
   ],
   "source": [
    "series"
   ]
  },
  {
   "cell_type": "markdown",
   "metadata": {},
   "source": [
    "## Persistence\n",
    "The first step before getting bogged down in data analysis and modeling is to establish a baseline of performance. This will provide both a template for evaluating models using the proposed test harness and a performance measure by which all more elaborate predictive models can be compared. The baseline prediction for time series forecasting is called the naive forecast, or persistence."
   ]
  },
  {
   "cell_type": "code",
   "execution_count": 15,
   "metadata": {},
   "outputs": [
    {
     "name": "stdout",
     "output_type": "stream",
     "text": [
      ">Predicted=503.000, Expected=503.000\n",
      ">Predicted=503.000, Expected=503.000\n",
      ">Predicted=503.000, Expected=515.000\n",
      ">Predicted=515.000, Expected=522.000\n",
      ">Predicted=522.000, Expected=492.000\n",
      ">Predicted=492.000, Expected=503.000\n",
      ">Predicted=503.000, Expected=503.000\n",
      ">Predicted=503.000, Expected=450.000\n",
      ">Predicted=450.000, Expected=432.000\n",
      ">Predicted=432.000, Expected=432.000\n",
      ">Predicted=432.000, Expected=458.000\n",
      ">Predicted=458.000, Expected=462.000\n",
      ">Predicted=462.000, Expected=503.000\n",
      ">Predicted=503.000, Expected=488.000\n",
      ">Predicted=488.000, Expected=466.000\n",
      ">Predicted=466.000, Expected=492.000\n",
      ">Predicted=492.000, Expected=503.000\n",
      ">Predicted=503.000, Expected=515.000\n",
      ">Predicted=515.000, Expected=500.000\n",
      ">Predicted=500.000, Expected=522.000\n",
      ">Predicted=522.000, Expected=575.000\n",
      ">Predicted=575.000, Expected=583.000\n",
      ">Predicted=583.000, Expected=587.000\n",
      ">Predicted=587.000, Expected=628.000\n",
      ">Predicted=628.000, Expected=640.000\n",
      ">Predicted=640.000, Expected=609.000\n",
      ">Predicted=609.000, Expected=606.000\n",
      ">Predicted=606.000, Expected=632.000\n",
      ">Predicted=632.000, Expected=617.000\n",
      ">Predicted=617.000, Expected=613.000\n",
      ">Predicted=613.000, Expected=598.000\n",
      ">Predicted=598.000, Expected=575.000\n",
      ">Predicted=575.000, Expected=564.000\n",
      ">Predicted=564.000, Expected=549.000\n",
      ">Predicted=549.000, Expected=538.000\n",
      "RMSE: 21.975\n"
     ]
    }
   ],
   "source": [
    "# evaluate a persistence model\n",
    "from pandas import read_csv\n",
    "from sklearn.metrics import mean_squared_error\n",
    "from math import sqrt\n",
    "# load data\n",
    "series = read_csv('dataset.csv', header=None, index_col=0, parse_dates=True, squeeze=True)\n",
    "# prepare data\n",
    "X = series.values\n",
    "X = X.astype('float32')\n",
    "train_size = int(len(X) * 0.50)\n",
    "train, test = X[0:train_size], X[train_size:]\n",
    "# walk-forward validation\n",
    "history = [x for x in train]\n",
    "predictions = list()\n",
    "for i in range(len(test)):\n",
    "    # predict\n",
    "    yhat = history[-1]\n",
    "    predictions.append(yhat)\n",
    "    obs = test[i]\n",
    "    history.append(obs)\n",
    "    print('>Predicted=%.3f, Expected=%.3f' % (yhat, obs))\n",
    "    # report performance\n",
    "rmse = sqrt(mean_squared_error(test, predictions)) \n",
    "print('RMSE: %.3f' % rmse)"
   ]
  },
  {
   "cell_type": "markdown",
   "metadata": {},
   "source": [
    "## Data Analysis\n",
    "Tahmin sorununun yapısı hakkında hızlı bir şekilde daha fazla bilgi edinmek için özet istatistikleri ve verilerin grafiklerini kullanabiliriz. Bu bölümde, verilere dört açıdan bakacağız:\n",
    "1. Summary Statistics.\n",
    "2. Line Plot.\n",
    "3. Density Plots.\n",
    "4. Box and Whisker Plot.\n",
    "\n"
   ]
  },
  {
   "cell_type": "markdown",
   "metadata": {},
   "source": [
    "## Summary Statistics"
   ]
  },
  {
   "cell_type": "code",
   "execution_count": 16,
   "metadata": {},
   "outputs": [
    {
     "name": "stdout",
     "output_type": "stream",
     "text": [
      "count     69.000000\n",
      "mean     500.478261\n",
      "std       73.901685\n",
      "min      344.000000\n",
      "25%      458.000000\n",
      "50%      492.000000\n",
      "75%      538.000000\n",
      "max      662.000000\n",
      "Name: 1, dtype: float64\n"
     ]
    }
   ],
   "source": [
    "# summary statistics of time series\n",
    "from pandas import read_csv\n",
    "series = read_csv('dataset.csv', header=None, index_col=0, parse_dates=True, squeeze=True) \n",
    "print(series.describe())"
   ]
  },
  {
   "cell_type": "markdown",
   "metadata": {},
   "source": [
    "Some observations from these statistics include:\n",
    "* Gözlem sayısı (sayım) beklentilerimize uyuyor, yani verileri doğru şekilde ele alıyoruz.\n",
    "* Ortalama yaklaşık 500, bu serideki seviyemizi düşünebiliriz.\n"
   ]
  },
  {
   "cell_type": "markdown",
   "metadata": {},
   "source": [
    "## Line Plot"
   ]
  },
  {
   "cell_type": "code",
   "execution_count": 17,
   "metadata": {},
   "outputs": [
    {
     "data": {
      "image/png": "[encoded data removed]",
      "text/plain": [
       "<Figure size 432x288 with 1 Axes>"
      ]
     },
     "metadata": {
      "needs_background": "light"
     },
     "output_type": "display_data"
    }
   ],
   "source": [
    "# line plot of time series\n",
    "from pandas import read_csv\n",
    "from matplotlib import pyplot\n",
    "series = read_csv('dataset.csv', header=None, index_col=0, parse_dates=True, squeeze=True) \n",
    "series.plot()\n",
    "pyplot.show()"
   ]
  },
  {
   "cell_type": "markdown",
   "metadata": {},
   "source": [
    "Some observations from the plot include:\n",
    "* Zamanla su kullanımında artış trendi görülmektedir.\n",
    "* Bazı büyük dalgalanmalar olmasına rağmen, belirgin bir aykırı değer görülmemektedir.\n",
    "* Serinin son yıllarında düşüş trendi var.\n",
    "\n"
   ]
  },
  {
   "cell_type": "markdown",
   "metadata": {},
   "source": [
    "\n",
    "Trend bileşenini açıkça modellemenin ve kaldırmanın bazı faydaları olabilir. Ayrıca, seriyi sabit hale getirmek için bir veya iki seviye arasındaki farkı kullanarak da keşfedebilirsiniz."
   ]
  },
  {
   "cell_type": "markdown",
   "metadata": {},
   "source": [
    "## Density Plot\n",
    "Gözlem yoğunluğunun grafiklerini gözden geçirmek, verilerin yapısı hakkında daha fazla bilgi sağlayabilir. Aşağıdaki örnek, herhangi bir zamansal yapı olmaksızın gözlemlerin bir histogramını ve yoğunluk grafiğini oluşturmaktadır.\n"
   ]
  },
  {
   "cell_type": "code",
   "execution_count": 18,
   "metadata": {},
   "outputs": [
    {
     "data": {
      "image/png": "[encoded data removed]",
      "text/plain": [
       "<Figure size 432x288 with 2 Axes>"
      ]
     },
     "metadata": {
      "needs_background": "light"
     },
     "output_type": "display_data"
    }
   ],
   "source": [
    "# density plots of time series\n",
    "from pandas import read_csv\n",
    "from matplotlib import pyplot\n",
    "series = read_csv('dataset.csv', header=None, index_col=0, parse_dates=True, squeeze=True) \n",
    "pyplot.figure(1)\n",
    "pyplot.subplot(211)\n",
    "series.hist()\n",
    "pyplot.subplot(212)\n",
    "series.plot(kind='kde')\n",
    "pyplot.show()"
   ]
  },
  {
   "cell_type": "markdown",
   "metadata": {},
   "source": [
    "Some observations from the plots include:\n",
    "* The distribution is not Gaussian, but is pretty close.\n",
    "* The distribution has a long right tail and may suggest an exponential distribution or a double Gaussian.\n"
   ]
  },
  {
   "cell_type": "markdown",
   "metadata": {},
   "source": [
    "Bu, modellemeden önce verilerin bazı güç dönüşümlerini keşfetmeye değer olabileceğini düşündürmektedir."
   ]
  },
  {
   "cell_type": "markdown",
   "metadata": {},
   "source": [
    "## Box and Whisker Plots\n",
    "Yıllık verileri on yıla göre gruplandırabilir ve her on yıl için gözlemlerin yayılması ve bunun nasıl değişebileceği hakkında bir fikir edinebiliriz. Biraz eğilim görmeyi bekliyoruz (artan ortalama veya medyan), ancak dağılımın geri kalanının nasıl değiştiğini görmek ilginç olabilir. Aşağıdaki örnek, gözlemleri on yıla göre gruplandırır ve her on yıllık gözlem için bir kutu ve bıyık grafiği oluşturur. Son on yıl sadece 9 yıl içerir ve diğer on yıllarla yararlı bir karşılaştırma olmayabilir. Bu nedenle sadece 1885 ve 1944 arasındaki veriler çizildi."
   ]
  },
  {
   "cell_type": "code",
   "execution_count": 19,
   "metadata": {},
   "outputs": [
    {
     "data": {
      "image/png": "[encoded data removed]",
      "text/plain": [
       "<Figure size 432x288 with 1 Axes>"
      ]
     },
     "metadata": {
      "needs_background": "light"
     },
     "output_type": "display_data"
    }
   ],
   "source": [
    "# boxplots of time series\n",
    "from pandas import read_csv\n",
    "from pandas import DataFrame\n",
    "from pandas import Grouper\n",
    "from matplotlib import pyplot\n",
    "series = read_csv('dataset.csv', header=None, index_col=0, parse_dates=True, squeeze=True) \n",
    "groups = series.groupby(Grouper(freq='10YS'))\n",
    "decades = DataFrame()\n",
    "for name, group in groups:\n",
    "    if len(group.values) is 10:\n",
    "        decades[name.year] = group.values\n",
    "decades.boxplot()\n",
    "pyplot.show()"
   ]
  },
  {
   "cell_type": "markdown",
   "metadata": {},
   "source": [
    "Some observations from reviewing the plot include:\n",
    "* Her yıl için ortanca değerler (kırmızı çizgi) doğrusal olmayabilecek bir artış eğilimi gösterebilir.\n",
    "* Verilerin yayılması veya orta% 50'si (mavi kutular) bazı değişkenlikler gösterir.\n",
    "* Birkaç on yıl içinde belki aykırı değerler vardır (kutunun ve bıyıkların dışından geçer).\n",
    "* Son on yılın ikinci yarısı, belki de birinci dünya savaşıyla ilişkili olarak daha düşük bir ortalama tüketime sahip gibi görünüyor."
   ]
  },
  {
   "cell_type": "markdown",
   "metadata": {},
   "source": [
    "Verilerin bu yıllık görünümü ilginç bir yoldur ve daha yakından takip edilebilir.\n",
    "on yıldan on yıla kadar özet istatistikler ve özet istatistiklerde değişiklikler."
   ]
  },
  {
   "cell_type": "markdown",
   "metadata": {},
   "source": [
    "## ARIMA Models\n",
    "### Manually Configured ARIMA\n",
    "ARIMA (p, d, q) modeli üç parametre gerektirir ve geleneksel olarak manuel olarak yapılandırılır. Zaman serisi verilerinin analizi, sabit bir zaman serisi ile çalıştığımızı varsayar. Zaman serisi muhtemelen durağan değildir. İlk önce serileri farklılaştırarak ve sonucun sabit olduğunu doğrulamak için istatistiksel bir test kullanarak durağan hale getirebiliriz. Aşağıdaki örnek, serinin sabit bir sürümünü oluşturur ve bunu stationary.csv dosyasına kaydeder."
   ]
  },
  {
   "cell_type": "code",
   "execution_count": 20,
   "metadata": {},
   "outputs": [
    {
     "name": "stdout",
     "output_type": "stream",
     "text": [
      "ADF Statistic: -6.126719\n",
      "p-value: 0.000000\n",
      "Critical Values:\n",
      "\t1%: -3.534\n",
      "\t5%: -2.906\n",
      "\t10%: -2.591\n"
     ]
    },
    {
     "data": {
      "image/png": "[encoded data removed]",
      "text/plain": [
       "<Figure size 432x288 with 1 Axes>"
      ]
     },
     "metadata": {
      "needs_background": "light"
     },
     "output_type": "display_data"
    }
   ],
   "source": [
    "# create and summarize a stationary version of the time series\n",
    "from pandas import read_csv\n",
    "from pandas import Series\n",
    "from statsmodels.tsa.stattools import adfuller\n",
    "from matplotlib import pyplot\n",
    "# create a differenced series\n",
    "def difference(dataset):\n",
    "    diff = list()\n",
    "    for i in range(1, len(dataset)):\n",
    "        value = dataset[i] - dataset[i - 1]\n",
    "        diff.append(value)\n",
    "    return Series(diff)\n",
    "series = read_csv('dataset.csv', header=None, index_col=0, parse_dates=True, squeeze=True) \n",
    "X = series.values\n",
    "X = X.astype('float32')\n",
    "# difference data\n",
    "stationary = difference(X) \n",
    "stationary.index = series.index[1:]\n",
    "# check if stationary\n",
    "result = adfuller(stationary) \n",
    "print('ADF Statistic: %f' % result[0]) \n",
    "print('p-value: %f' % result[1]) \n",
    "print('Critical Values:')\n",
    "for key, value in result[4].items():\n",
    "    print('\\t%s: %.3f' % (key, value))\n",
    "# plot differenced data\n",
    "stationary.plot()\n",
    "pyplot.show()\n",
    "# save\n",
    "stationary.to_csv('stationary.csv', header=False)"
   ]
  },
  {
   "cell_type": "markdown",
   "metadata": {},
   "source": [
    "Sıfır hipotezinin reddedilmesi, işlemin birim kökü olmadığı ve zaman serisinin hareketsiz olduğu veya zamana bağlı bir yapıya sahip olmadığı anlamına gelir."
   ]
  },
  {
   "cell_type": "markdown",
   "metadata": {},
   "source": [
    "Bu, en az bir fark seviyesinin gerekli olduğunu göstermektedir. ARIMA modelimizdeki d parametresi en az 1 olmalıdır. Farklı verilerin bir grafiği de oluşturulur. Bunun gerçekten artan trendi ortadan kaldırdığını gösteriyor."
   ]
  },
  {
   "cell_type": "markdown",
   "metadata": {},
   "source": [
    "Bir sonraki ilk adım sırasıyla Otomatik Regresyon (AR) ve Hareketli Ortalama (MA) parametreleri, p ve q için gecikme değerlerini seçmektir. Bunu, Otokorelasyon Fonksiyonu (ACF) ve Kısmi Otokorelasyon Fonksiyonu (PACF) grafiklerini inceleyerek yapabiliriz"
   ]
  },
  {
   "cell_type": "code",
   "execution_count": 21,
   "metadata": {},
   "outputs": [
    {
     "data": {
      "image/png": "[encoded data removed]",
      "text/plain": [
       "<Figure size 432x288 with 2 Axes>"
      ]
     },
     "metadata": {
      "needs_background": "light"
     },
     "output_type": "display_data"
    }
   ],
   "source": [
    "# ACF and PACF plots of the time series\n",
    "from pandas import read_csv\n",
    "from statsmodels.graphics.tsaplots import plot_acf\n",
    "from statsmodels.graphics.tsaplots import plot_pacf\n",
    "from matplotlib import pyplot\n",
    "series = read_csv('dataset.csv', header=None, index_col=0, parse_dates=True, squeeze=True) \n",
    "pyplot.figure()\n",
    "pyplot.subplot(211)\n",
    "plot_acf(series, lags=20, ax=pyplot.gca())\n",
    "pyplot.subplot(212)\n",
    "plot_pacf(series, lags=20, ax=pyplot.gca())\n",
    "pyplot.show()"
   ]
  },
  {
   "cell_type": "markdown",
   "metadata": {},
   "source": [
    "* The ACF shows significant lags to 4 time steps.\n",
    "* The PACF shows significant lags to 1 time step.\n",
    "* A good starting point for the p is 4 and q is 1."
   ]
  },
  {
   "cell_type": "markdown",
   "metadata": {},
   "source": [
    "Bu hızlı analiz, ham veriler üzerindeki bir ARIMA'nın (4,1,1) iyi bir başlangıç ​​noktası olabileceğini düşündürmektedir. Tüm manuel ARIMA örneği aşağıda listelenmiştir."
   ]
  },
  {
   "cell_type": "code",
   "execution_count": 22,
   "metadata": {},
   "outputs": [
    {
     "name": "stdout",
     "output_type": "stream",
     "text": [
      ">Predicted=548.319, Expected=503.000\n",
      ">Predicted=545.085, Expected=503.000\n",
      ">Predicted=546.061, Expected=515.000\n",
      ">Predicted=550.660, Expected=522.000\n",
      ">Predicted=552.011, Expected=492.000\n",
      ">Predicted=519.221, Expected=503.000\n",
      ">Predicted=527.953, Expected=503.000\n",
      ">Predicted=534.026, Expected=450.000\n",
      ">Predicted=474.119, Expected=432.000\n",
      ">Predicted=456.458, Expected=432.000\n",
      ">Predicted=465.408, Expected=458.000\n",
      ">Predicted=481.425, Expected=462.000\n",
      ">Predicted=476.155, Expected=503.000\n",
      ">Predicted=511.083, Expected=488.000\n",
      ">Predicted=497.183, Expected=466.000\n",
      ">Predicted=460.301, Expected=492.000\n",
      ">Predicted=506.310, Expected=503.000\n",
      ">Predicted=515.928, Expected=515.000\n",
      ">Predicted=516.368, Expected=500.000\n",
      ">Predicted=504.364, Expected=522.000\n",
      ">Predicted=525.885, Expected=575.000\n",
      ">Predicted=579.358, Expected=583.000\n",
      ">Predicted=575.313, Expected=587.000\n",
      ">Predicted=573.357, Expected=628.000\n",
      ">Predicted=622.135, Expected=640.000\n",
      ">Predicted=632.300, Expected=609.000\n",
      ">Predicted=595.782, Expected=606.000\n",
      ">Predicted=602.448, Expected=632.000\n",
      ">Predicted=635.947, Expected=617.000\n",
      ">Predicted=614.238, Expected=613.000\n",
      ">Predicted=609.028, Expected=598.000\n",
      ">Predicted=601.835, Expected=575.000\n",
      ">Predicted=580.316, Expected=564.000\n",
      ">Predicted=574.084, Expected=549.000\n",
      ">Predicted=562.009, Expected=538.000\n",
      "RMSE: 31.097\n"
     ]
    }
   ],
   "source": [
    "# evaluate a manually configured ARIMA model\n",
    "from pandas import read_csv\n",
    "from sklearn.metrics import mean_squared_error\n",
    "from statsmodels.tsa.arima_model import ARIMA\n",
    "from math import sqrt\n",
    "# load data\n",
    "series = read_csv('dataset.csv', header=None, index_col=0, parse_dates=True, squeeze=True)\n",
    "# prepare data\n",
    "X = series.values\n",
    "X = X.astype('float32')\n",
    "train_size = int(len(X) * 0.50)\n",
    "train, test = X[0:train_size], X[train_size:]\n",
    "# walk-forward validation\n",
    "history = [x for x in train]\n",
    "predictions = list()\n",
    "for i in range(len(test)):\n",
    "    # predict\n",
    "    model = ARIMA(history, order=(4,1,1))\n",
    "    model_fit = model.fit(disp=0)\n",
    "    yhat = model_fit.forecast()[0]\n",
    "    predictions.append(yhat)\n",
    "    # observation\n",
    "    obs = test[i]\n",
    "    history.append(obs)\n",
    "    print('>Predicted=%.3f, Expected=%.3f' % (yhat, obs))\n",
    "# report performance\n",
    "rmse = sqrt(mean_squared_error(test, predictions)) \n",
    "print('RMSE: %.3f' % rmse)"
   ]
  },
  {
   "cell_type": "markdown",
   "metadata": {},
   "source": [
    "## Grid Search ARIMA Hyperparameters\n",
    "* p: 0 to 4. 􏰀 \n",
    "* d: 0 to 2. 􏰀 \n",
    "* q: 0 to 4."
   ]
  },
  {
   "cell_type": "code",
   "execution_count": 25,
   "metadata": {},
   "outputs": [
    {
     "name": "stdout",
     "output_type": "stream",
     "text": [
      "ARIMA(0, 0, 1) RMSE=282.658\n",
      "ARIMA(0, 0, 2) RMSE=160.230\n",
      "ARIMA(0, 0, 3) RMSE=97.012\n",
      "ARIMA(0, 0, 4) RMSE=77.295\n",
      "ARIMA(0, 1, 1) RMSE=21.907\n",
      "ARIMA(2, 1, 0) RMSE=21.733\n",
      "Best ARIMA(2, 1, 0) RMSE=21.733\n"
     ]
    }
   ],
   "source": [
    "# grid search ARIMA parameters for a time series\n",
    "import warnings\n",
    "from pandas import read_csv\n",
    "from statsmodels.tsa.arima_model import ARIMA\n",
    "from sklearn.metrics import mean_squared_error\n",
    "from math import sqrt\n",
    "# evaluate an ARIMA model for a given order (p,d,q) and return RMSE\n",
    "def evaluate_arima_model(X, arima_order):\n",
    "    # prepare training dataset\n",
    "    X = X.astype('float32')\n",
    "    train_size = int(len(X) * 0.50)\n",
    "    train, test = X[0:train_size], X[train_size:]\n",
    "    history = [x for x in train]\n",
    "    # make predictions\n",
    "    predictions = list()\n",
    "    for t in range(len(test)):\n",
    "        model = ARIMA(history, order=arima_order)\n",
    "        # model_fit = model.fit(disp=0)\n",
    "        model_fit = model.fit(trend='nc', disp=0) \n",
    "        yhat = model_fit.forecast()[0] \n",
    "        predictions.append(yhat) \n",
    "        history.append(test[t])\n",
    "    # calculate out of sample error\n",
    "    rmse = sqrt(mean_squared_error(test, predictions))\n",
    "    return rmse\n",
    "# evaluate combinations of p, d and q values for an ARIMA model\n",
    "def evaluate_models(dataset, p_values, d_values, q_values): \n",
    "    dataset = dataset.astype('float32')\n",
    "    best_score, best_cfg = float(\"inf\"), None\n",
    "    for p in p_values:\n",
    "        for d in d_values:\n",
    "            for q in q_values:\n",
    "                order = (p,d,q)\n",
    "                try:\n",
    "                    rmse = evaluate_arima_model(dataset, order)\n",
    "                    if rmse < best_score:\n",
    "                        best_score, best_cfg = rmse, order \n",
    "                        print('ARIMA%s RMSE=%.3f' % (order,rmse))\n",
    "                except:\n",
    "                    continue\n",
    "    print('Best ARIMA%s RMSE=%.3f' % (best_cfg, best_score))\n",
    "# load dataset\n",
    "series = read_csv('dataset.csv', header=None, index_col=0, parse_dates=True, squeeze=True)\n",
    "# evaluate parameters\n",
    "p_values = range(0, 5)\n",
    "d_values = range(0, 3)\n",
    "q_values = range(0, 5)\n",
    "warnings.filterwarnings(\"ignore\")\n",
    "evaluate_models(series.values, p_values, d_values, q_values)\n"
   ]
  },
  {
   "cell_type": "markdown",
   "metadata": {},
   "source": [
    "We will select this ARIMA(2,1,0) model going forward."
   ]
  },
  {
   "cell_type": "markdown",
   "metadata": {},
   "source": [
    "## Review Residual Errors\n",
    "Bir modelin iyi bir son kontrolü, kalan tahmin hatalarını gözden geçirmektir. İdeal olarak, artık hataların dağılımı sıfır ortalamaya sahip bir Gauss olmalıdır. ARIMA (2,1,0) modelindeki artık hataları araştırmak için özet istatistikleri ve grafikleri kullanarak bunu kontrol edebiliriz. "
   ]
  },
  {
   "cell_type": "code",
   "execution_count": 26,
   "metadata": {},
   "outputs": [
    {
     "name": "stdout",
     "output_type": "stream",
     "text": [
      "               0\n",
      "count  35.000000\n",
      "mean    1.081624\n",
      "std    22.022566\n",
      "min   -52.103812\n",
      "25%   -16.202281\n",
      "50%    -0.459803\n",
      "75%    12.085091\n",
      "max    51.284337\n"
     ]
    },
    {
     "data": {
      "image/png": "[encoded data removed]",
      "text/plain": [
       "<Figure size 432x288 with 2 Axes>"
      ]
     },
     "metadata": {
      "needs_background": "light"
     },
     "output_type": "display_data"
    }
   ],
   "source": [
    "# summarize residual errors for an ARIMA model\n",
    "from pandas import read_csv\n",
    "from pandas import DataFrame\n",
    "from statsmodels.tsa.arima_model import ARIMA\n",
    "from matplotlib import pyplot\n",
    "# load data\n",
    "series = read_csv('dataset.csv', header=None, index_col=0, parse_dates=True, squeeze=True)\n",
    "# prepare data\n",
    "X = series.values\n",
    "X = X.astype('float32')\n",
    "train_size = int(len(X) * 0.50)\n",
    "train, test = X[0:train_size], X[train_size:]\n",
    "# walk-forward validation\n",
    "history = [x for x in train]\n",
    "predictions = list()\n",
    "for i in range(len(test)):\n",
    "    # predict\n",
    "    model = ARIMA(history, order=(2,1,0)) \n",
    "    model_fit = model.fit(trend='nc', disp=0) \n",
    "    yhat = model_fit.forecast()[0] \n",
    "    predictions.append(yhat)\n",
    "    # observation\n",
    "    obs = test[i]\n",
    "    history.append(obs)\n",
    "# errors\n",
    "residuals = [test[i]-predictions[i] for i in range(len(test))]\n",
    "residuals = DataFrame(residuals)\n",
    "print(residuals.describe())\n",
    "pyplot.figure()\n",
    "pyplot.subplot(211) \n",
    "residuals.hist(ax=pyplot.gca()) \n",
    "pyplot.subplot(212) \n",
    "residuals.plot(kind='kde', ax=pyplot.gca()) \n",
    "pyplot.show()"
   ]
  },
  {
   "cell_type": "markdown",
   "metadata": {},
   "source": [
    "Bu bilgiyi, ortalama kalan hatayı ekleyerek tahminleri saptamak için kullanabiliriz\n",
    "yapılan her tahmine 1.081624. Aşağıdaki örnek bu sapma düzeltmesini gerçekleştirir."
   ]
  },
  {
   "cell_type": "code",
   "execution_count": 27,
   "metadata": {},
   "outputs": [
    {
     "name": "stdout",
     "output_type": "stream",
     "text": [
      "RMSE: 21.706\n",
      "                  0\n",
      "count  3.500000e+01\n",
      "mean   3.734804e-07\n",
      "std    2.202257e+01\n",
      "min   -5.318544e+01\n",
      "25%   -1.728390e+01\n",
      "50%   -1.541427e+00\n",
      "75%    1.100347e+01\n",
      "max    5.020271e+01\n"
     ]
    },
    {
     "data": {
      "image/png": "[encoded data removed]",
      "text/plain": [
       "<Figure size 432x288 with 2 Axes>"
      ]
     },
     "metadata": {
      "needs_background": "light"
     },
     "output_type": "display_data"
    }
   ],
   "source": [
    "# summarize residual errors from bias corrected forecasts\n",
    "from pandas import read_csv\n",
    "from pandas import DataFrame\n",
    "from sklearn.metrics import mean_squared_error\n",
    "from statsmodels.tsa.arima_model import ARIMA\n",
    "from math import sqrt\n",
    "from matplotlib import pyplot\n",
    "# load data\n",
    "series = read_csv('dataset.csv', header=None, index_col=0, parse_dates=True, squeeze=True)\n",
    "# prepare data\n",
    "X = series.values\n",
    "X = X.astype('float32')\n",
    "train_size = int(len(X) * 0.50)\n",
    "train, test = X[0:train_size], X[train_size:]\n",
    "# walk-forward validation\n",
    "history = [x for x in train]\n",
    "predictions = list()\n",
    "bias = 1.081624\n",
    "for i in range(len(test)):\n",
    "    # predict\n",
    "    model = ARIMA(history, order=(2,1,0)) \n",
    "    model_fit = model.fit(trend='nc', disp=0) \n",
    "    yhat = bias + float(model_fit.forecast()[0]) \n",
    "    predictions.append(yhat)\n",
    "    # observation\n",
    "    obs = test[i]\n",
    "    history.append(obs)\n",
    "# report performance\n",
    "rmse = sqrt(mean_squared_error(test, predictions)) \n",
    "print('RMSE: %.3f' % rmse)\n",
    "# summarize residual errors\n",
    "residuals = [test[i]-predictions[i] for i in range(len(test))] \n",
    "residuals = DataFrame(residuals)\n",
    "print(residuals.describe())\n",
    "# plot residual errors\n",
    "pyplot.figure()\n",
    "pyplot.subplot(211) \n",
    "residuals.hist(ax=pyplot.gca()) \n",
    "pyplot.subplot(212) \n",
    "residuals.plot(kind='kde', ax=pyplot.gca()) \n",
    "pyplot.show()"
   ]
  },
  {
   "cell_type": "markdown",
   "metadata": {},
   "source": [
    "## Model Validation\n",
    "* Finalize Model: Train and save the final model.\n",
    "* 􏰀Make Prediction: Load the finalized model and make a prediction. 􏰀 \n",
    "* Validate Model: Load and validate the final model."
   ]
  },
  {
   "cell_type": "markdown",
   "metadata": {},
   "source": [
    "## Finalize Model\n"
   ]
  },
  {
   "cell_type": "code",
   "execution_count": 28,
   "metadata": {},
   "outputs": [],
   "source": [
    "# save finalized model to file\n",
    "from pandas import read_csv\n",
    "from statsmodels.tsa.arima_model import ARIMA\n",
    "import numpy\n",
    "# monkey patch around bug in ARIMA class\n",
    "def __getnewargs__(self):\n",
    "    return ((self.endog),(self.k_lags, self.k_diff, self.k_ma))\n",
    "ARIMA.__getnewargs__ = __getnewargs__\n",
    "# load data\n",
    "series = read_csv('dataset.csv', header=None, index_col=0, parse_dates=True, squeeze=True)\n",
    "# prepare data\n",
    "X = series.values\n",
    "X = X.astype('float32')\n",
    "# fit model\n",
    "model = ARIMA(X, order=(2,1,0))\n",
    "model_fit = model.fit(trend='nc', disp=0)\n",
    "# bias constant, could be calculated from in-sample mean residual bias = 1.081624\n",
    "# save model\n",
    "model_fit.save('model.pkl')\n",
    "numpy.save('model_bias.npy', [bias])"
   ]
  },
  {
   "cell_type": "markdown",
   "metadata": {},
   "source": [
    "## Make Prediction"
   ]
  },
  {
   "cell_type": "code",
   "execution_count": 31,
   "metadata": {},
   "outputs": [
    {
     "name": "stdout",
     "output_type": "stream",
     "text": [
      "Predicted: 540.013\n"
     ]
    }
   ],
   "source": [
    "# load finalized model and make a prediction\n",
    "from statsmodels.tsa.arima_model import ARIMAResults \n",
    "import numpy\n",
    "model_fit = ARIMAResults.load('model.pkl')\n",
    "bias = numpy.load('model_bias.npy')\n",
    "yhat = bias + float(model_fit.forecast()[0]) \n",
    "print('Predicted: %.3f' % yhat)"
   ]
  },
  {
   "cell_type": "markdown",
   "metadata": {},
   "source": [
    "## Validate Model"
   ]
  },
  {
   "cell_type": "code",
   "execution_count": 34,
   "metadata": {},
   "outputs": [
    {
     "name": "stdout",
     "output_type": "stream",
     "text": [
      ">Predicted=540.013, Expected=568.000\n",
      ">Predicted=571.589, Expected=575.000\n",
      ">Predicted=573.289, Expected=579.000\n",
      ">Predicted=579.561, Expected=587.000\n",
      ">Predicted=588.063, Expected=602.000\n",
      ">Predicted=603.022, Expected=594.000\n",
      ">Predicted=593.178, Expected=587.000\n",
      ">Predicted=588.558, Expected=587.000\n",
      ">Predicted=588.797, Expected=625.000\n",
      ">Predicted=627.941, Expected=613.000\n",
      "RMSE: 16.532\n"
     ]
    },
    {
     "data": {
      "image/png": "[encoded data removed]",
      "text/plain": [
       "<Figure size 432x288 with 1 Axes>"
      ]
     },
     "metadata": {
      "needs_background": "light"
     },
     "output_type": "display_data"
    }
   ],
   "source": [
    "# load and evaluate the finalized model on the validation dataset\n",
    "from pandas import read_csv\n",
    "from matplotlib import pyplot\n",
    "from statsmodels.tsa.arima_model import ARIMA\n",
    "from statsmodels.tsa.arima_model import ARIMAResults\n",
    "from sklearn.metrics import mean_squared_error\n",
    "from math import sqrt\n",
    "import numpy\n",
    "# load and prepare datasets\n",
    "dataset = read_csv('dataset.csv', header=None, index_col=0, parse_dates=True, squeeze=True)\n",
    "X = dataset.values.astype('float32')\n",
    "history = [x for x in X]\n",
    "validation = read_csv('validation.csv', header=None, index_col=0, parse_dates=True, squeeze=True)\n",
    "y = validation.values.astype('float32')\n",
    "# load model\n",
    "model_fit = ARIMAResults.load('model.pkl') \n",
    "bias = numpy.load('model_bias.npy')\n",
    "# make first prediction\n",
    "predictions = list()\n",
    "yhat = bias + float(model_fit.forecast()[0]) \n",
    "predictions.append(yhat)\n",
    "history.append(y[0])\n",
    "print('>Predicted=%.3f, Expected=%.3f' % (yhat, y[0]))\n",
    "# rolling forecasts\n",
    "for i in range(1, len(y)):\n",
    "    # predict\n",
    "    model = ARIMA(history, order=(2,1,0))\n",
    "    model_fit = model.fit(trend='nc', disp=0)\n",
    "    yhat = bias + float(model_fit.forecast()[0]) \n",
    "    predictions.append(yhat)\n",
    "    # observation\n",
    "    obs = y[i]\n",
    "    history.append(obs)\n",
    "    print('>Predicted=%.3f, Expected=%.3f' % (yhat, obs))\n",
    "# report performance\n",
    "rmse = sqrt(mean_squared_error(y, predictions)) \n",
    "print('RMSE: %.3f' % rmse)\n",
    "pyplot.plot(y)\n",
    "pyplot.plot(predictions, color='red') \n",
    "pyplot.show()"
   ]
  },
  {
   "cell_type": "markdown",
   "metadata": {},
   "source": [
    "\n",
    "Doğrulama veri kümesine kıyasla tahminlerin bir grafiği de verilmiştir. Tahmin, kalıcılık tahmini özelliklerine sahiptir. Bu, bu zaman serisinin belirgin bir eğilimi olmasına rağmen, hala oldukça zor bir sorun olduğunu göstermektedir."
   ]
  },
  {
   "cell_type": "code",
   "execution_count": null,
   "metadata": {},
   "outputs": [],
   "source": []
  }
 ],
 "metadata": {
  "kernelspec": {
   "display_name": "Python 3",
   "language": "python",
   "name": "python3"
  },
  "language_info": {
   "codemirror_mode": {
    "name": "ipython",
    "version": 3
   },
   "file_extension": ".py",
   "mimetype": "text/x-python",
   "name": "python",
   "nbconvert_exporter": "python",
   "pygments_lexer": "ipython3",
   "version": "3.7.6"
  }
 },
 "nbformat": 4,
 "nbformat_minor": 4
}
