{
 "cells": [
  {
   "cell_type": "markdown",
   "metadata": {},
   "source": [
    "# Project: Monthly Sales of French Champagne\n",
    "Zaman serisi tahmini bir süreçtir ve iyi tahminler almanın tek yolu bu süreci uygulamaktır. Bu yazıda, Python ile aylık Fransız şampanya satışlarının nasıl tahmin edileceğini keşfedeceksiniz. Bu eğitimde çalışmak, kendi zaman serisi tahmin sorunlarınız üzerinde çalışmak için adımlar ve araçlar için bir çerçeve sağlayacaktır."
   ]
  },
  {
   "cell_type": "markdown",
   "metadata": {},
   "source": [
    "The steps of this project that we will through are as follows.\n",
    "1. Problem Description.\n",
    "2. Test Harness.\n",
    "3. Persistence.\n",
    "4. Data Analysis. \n",
    "5. ARIMA Models.\n",
    "6. Model Validation."
   ]
  },
  {
   "cell_type": "markdown",
   "metadata": {},
   "source": [
    "## Problem Description\n",
    "Sorun, Perrin Freres etiketi için (Fransa'daki bir bölge için adlandırılmış) aylık şampanya satışlarının sayısını tahmin etmektir. Veri kümesi, Ocak 1964'ten Eylül 1972'ye kadar veya 10 yıllık verilerin altında aylık şampanya satışlarının sayısını sağlar. Değerler milyonlarca satıştır ve 105 gözlem vardır.\n"
   ]
  },
  {
   "cell_type": "markdown",
   "metadata": {},
   "source": [
    "## Test Harness\n",
    "1. Defining a Validation Dataset.\n",
    "2. Developing a Method for Model Evaluation.\n"
   ]
  },
  {
   "cell_type": "markdown",
   "metadata": {},
   "source": [
    "## Validation Dataset\n",
    "Veri kümesi güncel değil. Bu, modeli doğrulamak için güncellenmiş verileri kolayca toplayamayacağımız anlamına gelir. Bu nedenle, Eylül 1971 olduğunu iddia edeceğiz ve analiz ve model seçiminden son bir yıllık verileri saklayacağız. Bu son veri yılı, son modeli doğrulamak için kullanılacaktır. Aşağıdaki kod, veri kümesini bir Pandas Serisi olarak yükler ve biri model geliştirme (dataset.csv) ve diğeri de doğrulama (validation.csv) için ikiye bölünür."
   ]
  },
  {
   "cell_type": "code",
   "execution_count": 3,
   "metadata": {},
   "outputs": [
    {
     "name": "stdout",
     "output_type": "stream",
     "text": [
      "Dataset 93, Validation 12\n"
     ]
    }
   ],
   "source": [
    "# separate out a validation dataset\n",
    "from pandas import read_csv\n",
    "series = read_csv('champagne.csv', header=0, index_col=0, parse_dates=True, squeeze=True) \n",
    "split_point = len(series) - 12\n",
    "dataset, validation = series[0:split_point], series[split_point:]\n",
    "print('Dataset %d, Validation %d' % (len(dataset), len(validation))) \n",
    "dataset.to_csv('dataset.csv', header=False)\n",
    "validation.to_csv('validation.csv', header=False)"
   ]
  },
  {
   "cell_type": "markdown",
   "metadata": {},
   "source": [
    "## Model Evaluation\n",
    "## Persistence\n"
   ]
  },
  {
   "cell_type": "code",
   "execution_count": 4,
   "metadata": {},
   "outputs": [
    {
     "name": "stdout",
     "output_type": "stream",
     "text": [
      ">Predicted=5428.000, Expected=8314\n",
      ">Predicted=8314.000, Expected=10651\n",
      ">Predicted=10651.000, Expected=3633\n",
      ">Predicted=3633.000, Expected=4292\n",
      ">Predicted=4292.000, Expected=4154\n",
      ">Predicted=4154.000, Expected=4121\n",
      ">Predicted=4121.000, Expected=4647\n",
      ">Predicted=4647.000, Expected=4753\n",
      ">Predicted=4753.000, Expected=3965\n",
      ">Predicted=3965.000, Expected=1723\n",
      ">Predicted=1723.000, Expected=5048\n",
      ">Predicted=5048.000, Expected=6922\n",
      ">Predicted=6922.000, Expected=9858\n",
      ">Predicted=9858.000, Expected=11331\n",
      ">Predicted=11331.000, Expected=4016\n",
      ">Predicted=4016.000, Expected=3957\n",
      ">Predicted=3957.000, Expected=4510\n",
      ">Predicted=4510.000, Expected=4276\n",
      ">Predicted=4276.000, Expected=4968\n",
      ">Predicted=4968.000, Expected=4677\n",
      ">Predicted=4677.000, Expected=3523\n",
      ">Predicted=3523.000, Expected=1821\n",
      ">Predicted=1821.000, Expected=5222\n",
      ">Predicted=5222.000, Expected=6872\n",
      ">Predicted=6872.000, Expected=10803\n",
      ">Predicted=10803.000, Expected=13916\n",
      ">Predicted=13916.000, Expected=2639\n",
      ">Predicted=2639.000, Expected=2899\n",
      ">Predicted=2899.000, Expected=3370\n",
      ">Predicted=3370.000, Expected=3740\n",
      ">Predicted=3740.000, Expected=2927\n",
      ">Predicted=2927.000, Expected=3986\n",
      ">Predicted=3986.000, Expected=4217\n",
      ">Predicted=4217.000, Expected=1738\n",
      ">Predicted=1738.000, Expected=5221\n",
      ">Predicted=5221.000, Expected=6424\n",
      ">Predicted=6424.000, Expected=9842\n",
      ">Predicted=9842.000, Expected=13076\n",
      ">Predicted=13076.000, Expected=3934\n",
      ">Predicted=3934.000, Expected=3162\n",
      ">Predicted=3162.000, Expected=4286\n",
      ">Predicted=4286.000, Expected=4676\n",
      ">Predicted=4676.000, Expected=5010\n",
      ">Predicted=5010.000, Expected=4874\n",
      ">Predicted=4874.000, Expected=4633\n",
      ">Predicted=4633.000, Expected=1659\n",
      ">Predicted=1659.000, Expected=5951\n",
      "RMSE: 3186.501\n"
     ]
    }
   ],
   "source": [
    "# evaluate persistence model on time series\n",
    "from pandas import read_csv\n",
    "from sklearn.metrics import mean_squared_error\n",
    "from math import sqrt\n",
    "# load data\n",
    "series = read_csv('dataset.csv', header=None, index_col=0, parse_dates=True, squeeze=True)\n",
    "# prepare data\n",
    "X = series.values\n",
    "X = X.astype('float32')\n",
    "train_size = int(len(X) * 0.50)\n",
    "train, test = X[0:train_size], X[train_size:]\n",
    "# walk-forward validation\n",
    "history = [x for x in train]\n",
    "predictions = list()\n",
    "for i in range(len(test)):\n",
    "    # predict\n",
    "    yhat = history[-1]\n",
    "    predictions.append(yhat)\n",
    "  # observation\n",
    "    obs = test[i]\n",
    "    history.append(obs)\n",
    "    print('>Predicted=%.3f, Expected=%3.f' % (yhat, obs))\n",
    "# report performance\n",
    "rmse = sqrt(mean_squared_error(test, predictions)) \n",
    "print('RMSE: %.3f' % rmse)"
   ]
  },
  {
   "cell_type": "markdown",
   "metadata": {},
   "source": [
    "## Data Analysis\n",
    "1. Summary Statistics. \n",
    "2. Line Plot.\n",
    "3. Seasonal Line Plots \n",
    "4. Density Plots.\n",
    "5. Box and Whisker Plot."
   ]
  },
  {
   "cell_type": "markdown",
   "metadata": {},
   "source": [
    "## Summary Statistics\n"
   ]
  },
  {
   "cell_type": "code",
   "execution_count": 5,
   "metadata": {},
   "outputs": [
    {
     "name": "stdout",
     "output_type": "stream",
     "text": [
      "count       93.000000\n",
      "mean      4641.118280\n",
      "std       2486.403841\n",
      "min       1573.000000\n",
      "25%       3036.000000\n",
      "50%       4016.000000\n",
      "75%       5048.000000\n",
      "max      13916.000000\n",
      "Name: 1, dtype: float64\n"
     ]
    }
   ],
   "source": [
    "# summary statistics of time series\n",
    "from pandas import read_csv\n",
    "series = read_csv('dataset.csv', header=None, index_col=0, parse_dates=True, squeeze=True)\n",
    "print(series.describe())"
   ]
  },
  {
   "cell_type": "markdown",
   "metadata": {},
   "source": [
    "Some observations from these statistics include:\n",
    "* Gözlem sayısı (sayım) beklentilerimize uyuyor, yani verileri doğru şekilde ele alıyoruz.\n",
    "* The mean is about 4,641, which we might consider our level in this series\n",
    "* Standart sapma (ortalamadan ortalama dağılım) 2.486 satışta nispeten büyüktür.\n",
    "* Yüzdelikler ve standart sapma, verilere geniş bir yayılım gösterir."
   ]
  },
  {
   "cell_type": "markdown",
   "metadata": {},
   "source": [
    "## Line Plot\n"
   ]
  },
  {
   "cell_type": "code",
   "execution_count": 7,
   "metadata": {},
   "outputs": [
    {
     "data": {
      "image/png": "[encoded data removed]",
      "text/plain": [
       "<Figure size 432x288 with 1 Axes>"
      ]
     },
     "metadata": {
      "needs_background": "light"
     },
     "output_type": "display_data"
    }
   ],
   "source": [
    "# line plot of time series\n",
    "from pandas import read_csv\n",
    "from matplotlib import pyplot\n",
    "series = read_csv('dataset.csv', header=None, index_col=0, parse_dates=True, squeeze=True) \n",
    "series.plot()\n",
    "pyplot.show()"
   ]
  },
  {
   "cell_type": "markdown",
   "metadata": {},
   "source": [
    "Serideki belirgin zamansal yapılara dikkat edin Some observations from the plot include:\n",
    "* Zaman içinde satışlarda artış eğilimi olabilir.\n",
    "* Her yıl satışlarda sistematik bir mevsimsellik olduğu görülmektedir.\n",
    "* Mevsimsel sinyal zaman içinde büyüyor gibi görünmektedir, bu da çarpımsal bir ilişkiyi göstermektedir (artan değişim).\n",
    "* Belirgin bir aykırı değer yok gibi görünüyor.\n",
    "* Sezonluk, serinin neredeyse kesinlikle durağan olmadığını gösteriyor."
   ]
  },
  {
   "cell_type": "markdown",
   "metadata": {},
   "source": [
    "Mevsimsel bileşenin açıkça modellenmesi ve çıkarılmasında fayda olabilir. Ayrıca, seriyi sabit hale getirmek için bir veya iki seviye arasındaki farkı kullanarak da keşfedebilirsiniz. Mevsimsel bileşendeki artış eğilimi veya büyüme, bir kütük veya başka bir güç dönüşümünün kullanılmasını önerebilir."
   ]
  },
  {
   "cell_type": "markdown",
   "metadata": {},
   "source": [
    "## Seasonal Line Plots\n",
    "Mevsimselliğin yıllık bir döngü olduğu varsayımını yıllara göre veri kümesinin gözbebekleri çizerek doğrulayabiliriz. Aşağıdaki örnek, 7 tam yıllık veriyi ayrı gruplar olarak alır ve her biri için bir satır grafiği oluşturur. Çizgi grafikleri, yıllara göre herhangi bir paterni tespit etmeye yardımcı olmak için dikey olarak hizalanır."
   ]
  },
  {
   "cell_type": "code",
   "execution_count": 8,
   "metadata": {},
   "outputs": [
    {
     "data": {
      "image/png": "[encoded data removed]",
      "text/plain": [
       "<Figure size 432x288 with 7 Axes>"
      ]
     },
     "metadata": {
      "needs_background": "light"
     },
     "output_type": "display_data"
    }
   ],
   "source": [
    "# multiple line plots of time series\n",
    "from pandas import read_csv\n",
    "from pandas import DataFrame\n",
    "from pandas import Grouper\n",
    "from matplotlib import pyplot\n",
    "series = read_csv('dataset.csv', header=None, index_col=0, parse_dates=True, squeeze=True) \n",
    "groups = series['1964':'1970'].groupby(Grouper(freq='A'))\n",
    "years = DataFrame() \n",
    "pyplot.figure() \n",
    "i=1\n",
    "n_groups = len(groups)\n",
    "for name, group in groups:\n",
    "    pyplot.subplot((n_groups*100) + 10 + i)\n",
    "    i += 1\n",
    "    pyplot.plot(group)\n",
    "pyplot.show()"
   ]
  },
  {
   "cell_type": "markdown",
   "metadata": {},
   "source": [
    "## Density Plot\n",
    "Gözlem yoğunluğunun çizimlerinin gözden geçirilmesi, verilerin yapısı hakkında daha fazla bilgi sağlayabilir. Aşağıdaki örnek, herhangi bir zamansal yapı olmaksızın gözlemlerin bir histogramını ve yoğunluk grafiğini oluşturmaktadır."
   ]
  },
  {
   "cell_type": "code",
   "execution_count": 9,
   "metadata": {},
   "outputs": [
    {
     "data": {
      "image/png": "[encoded data removed]",
      "text/plain": [
       "<Figure size 432x288 with 2 Axes>"
      ]
     },
     "metadata": {
      "needs_background": "light"
     },
     "output_type": "display_data"
    }
   ],
   "source": [
    "# density plots of time series\n",
    "from pandas import read_csv\n",
    "from matplotlib import pyplot\n",
    "series = read_csv('dataset.csv', header=None, index_col=0, parse_dates=True, squeeze=True) \n",
    "pyplot.figure(1)\n",
    "pyplot.subplot(211)\n",
    "series.hist()\n",
    "pyplot.subplot(212)\n",
    "series.plot(kind='kde')\n",
    "pyplot.show()"
   ]
  },
  {
   "cell_type": "markdown",
   "metadata": {},
   "source": [
    "Some observations from the plots include:\n",
    "* The distribution is not Gaussian.\n",
    "* The shape has a long right tail and may suggest an exponential distribution\n"
   ]
  },
  {
   "cell_type": "markdown",
   "metadata": {},
   "source": [
    "Bu, modellemeden önce verilerin bazı güç dönüşümlerini keşfetmeye daha fazla destek sağlar."
   ]
  },
  {
   "cell_type": "markdown",
   "metadata": {},
   "source": [
    "## Box and Whisker Plots\n",
    "Aylık verileri yıllara göre gruplandırabilir ve her yıl için gözlemlerin yayılması ve bunun nasıl değişebileceği hakkında fikir edinebiliriz. Biraz eğilim görmeyi bekliyoruz (artan ortalama veya medyan), ancak dağılımın geri kalanının nasıl değiştiğini görmek ilginç olabilir. Aşağıdaki örnek, gözlemleri yıla göre gruplandırır ve her gözlem yılı için bir kutu ve bıyık grafiği oluşturur. Geçen yıl (1971) sadece 9 ay içerir ve diğer yıllar için yapılan 12 aylık gözlemlerle yararlı bir karşılaştırma olur."
   ]
  },
  {
   "cell_type": "code",
   "execution_count": 10,
   "metadata": {},
   "outputs": [
    {
     "data": {
      "image/png": "[encoded data removed]",
      "text/plain": [
       "<Figure size 432x288 with 1 Axes>"
      ]
     },
     "metadata": {
      "needs_background": "light"
     },
     "output_type": "display_data"
    }
   ],
   "source": [
    "# boxplots of time series\n",
    "from pandas import read_csv\n",
    "from pandas import DataFrame\n",
    "from pandas import Grouper\n",
    "from matplotlib import pyplot\n",
    "series = read_csv('dataset.csv', header=None, index_col=0, parse_dates=True, squeeze=True) \n",
    "groups = series['1964':'1970'].groupby(Grouper(freq='A'))\n",
    "years = DataFrame()\n",
    "for name, group in groups:\n",
    "    years[name.year] = group.values\n",
    "years.boxplot()\n",
    "pyplot.show()"
   ]
  },
  {
   "cell_type": "markdown",
   "metadata": {},
   "source": [
    "Some observations from reviewing the plots include:\n",
    "* Her yıl için ortanca değerler (kırmızı çizgi) artan bir trend gösterebilir.\n",
    "* Verilerin yayılması veya orta% 50'si (mavi kutular) makul derecede kararlı görünüyor.\n",
    "* Her yıl aykırı değerler vardır (kara haçlar); bunlar mevsimsel döngünün tepeleri veya dipleri olabilir.\n",
    "* Son yıl, 1970, önceki yıllardaki trendden farklı görünüyor"
   ]
  },
  {
   "cell_type": "markdown",
   "metadata": {},
   "source": [
    "Gözlemler belki de yıllar boyunca bir miktar büyüme eğilimi ve mevsimsel döngünün bir parçası olabilecek aykırı değerlere işaret ediyor. Verilerin bu yıllık görünümü ilginç bir yoldur ve yıldan yıla özet istatistiklere ve yıldan yıla özet istatistiklerdeki değişikliklere bakılarak daha fazla takip edilebilir."
   ]
  },
  {
   "cell_type": "markdown",
   "metadata": {},
   "source": [
    "## ARIMA Models\n",
    "## Manually Configured ARIMA"
   ]
  },
  {
   "cell_type": "markdown",
   "metadata": {},
   "source": [
    "ARIMA (p, d, q) modeli üç parametre gerektirir ve geleneksel olarak manuel olarak yapılandırılır. Zaman serisi verilerinin analizi, sabit bir zaman serisi ile çalıştığımızı varsayar. Zaman serileri neredeyse hiç durağan değil. Öncelikle serileri farklılaştırarak ve sonucun sabit olduğunu doğrulamak için istatistiksel bir test kullanarak bunu sabit hale getirebiliriz."
   ]
  },
  {
   "cell_type": "markdown",
   "metadata": {},
   "source": [
    "Dizideki mevsimsellik görünüşe göre yıldan yıla. Mevsimsel veriler, gözlemin bir önceki döngüde aynı saatten, bu durumda bir önceki yılın aynı ayında çıkarılmasıyla farklılık gösterebilir. Bu, fark edilecek önceki yıl olmadığı için gözlemlerin ilk yılını kaybedeceğimiz anlamına gelir. Aşağıdaki örnek, dizinin mevsimselleştirilmemiş bir sürümünü oluşturur ve bunu stationary.csv dosyasına kaydeder."
   ]
  },
  {
   "cell_type": "code",
   "execution_count": 16,
   "metadata": {},
   "outputs": [
    {
     "name": "stdout",
     "output_type": "stream",
     "text": [
      "ADF Statistic: -7.134898\n",
      "p-value: 0.000000\n",
      "Critical Values:\n",
      "\t1%: -3.515\n",
      "\t5%: -2.898\n",
      "\t10%: -2.586\n"
     ]
    },
    {
     "data": {
      "image/png": "[encoded data removed]",
      "text/plain": [
       "<Figure size 432x288 with 1 Axes>"
      ]
     },
     "metadata": {
      "needs_background": "light"
     },
     "output_type": "display_data"
    }
   ],
   "source": [
    "# create and summarize stationary version of time series\n",
    "from pandas import read_csv\n",
    "from pandas import Series\n",
    "from statsmodels.tsa.stattools import adfuller\n",
    "from matplotlib import pyplot\n",
    "# create a differenced series\n",
    "def difference(dataset, interval=1):\n",
    "    diff = list()\n",
    "    for i in range(interval, len(dataset)):\n",
    "        value = dataset[i] - dataset[i - interval]\n",
    "        diff.append(value)\n",
    "    return Series(diff)\n",
    "series = read_csv('dataset.csv', header=None, index_col=0, parse_dates=True, squeeze=True) \n",
    "X = series.values\n",
    "X = X.astype('float32')\n",
    "# difference data\n",
    "months_in_year = 12\n",
    "stationary = difference(X, months_in_year) \n",
    "stationary.index = series.index[months_in_year:]\n",
    "# check if stationary\n",
    "result = adfuller(stationary)\n",
    "print('ADF Statistic: %f' % result[0]) \n",
    "print('p-value: %f' % result[1])\n",
    "print('Critical Values:')\n",
    "for key, value in result[4].items():\n",
    "    print('\\t%s: %.3f' % (key, value))\n",
    "# save\n",
    "stationary.to_csv('stationary.csv', header=False)\n",
    "# plot\n",
    "stationary.plot()\n",
    "pyplot.show()"
   ]
  },
  {
   "cell_type": "markdown",
   "metadata": {},
   "source": [
    "Referans olması açısından, mevsimsel fark operasyonu, bir önceki yılın aynı ayı için gözlem eklenerek tersine çevrilebilir. Bu, tahminlerin mevsimsel olarak farklılaştırılmış verilere uygun bir model tarafından yapılması durumunda gereklidir. Mevsimsel fark işletimini tersine çevirme işlevi, tamlık için aşağıda listelenmiştir."
   ]
  },
  {
   "cell_type": "code",
   "execution_count": 17,
   "metadata": {},
   "outputs": [],
   "source": [
    "# invert differenced value\n",
    "def inverse_difference(history, yhat, interval=1):\n",
    "    return yhat + history[-interval]"
   ]
  },
  {
   "cell_type": "markdown",
   "metadata": {},
   "source": [
    "Farklılaştırılmış veri kümesinin bir grafiği de oluşturulur. Grafikte mevsimsel olarak farklılık gösteren veri kümesinin modelleme için iyi bir başlangıç ​​noktası olduğunu öne süren, belirgin bir mevsimsellik veya eğilim göstermemektedir. Bu veri kümesini ARIMA modeline girdi olarak kullanacağız. Ayrıca başka bir fark gerekmeyebileceğini ve d parametresinin 0 olarak ayarlanabileceğini de gösterir."
   ]
  },
  {
   "cell_type": "markdown",
   "metadata": {},
   "source": [
    "Bir sonraki ilk adım sırasıyla Otomatik Regresyon (AR) ve Hareketli Ortalama (MA) parametreleri, p ve q için gecikme değerlerini seçmektir. Bunu, Otokorelasyon Fonksiyonu (ACF) ve Kısmi Otokorelasyon Fonksiyonu (PACF) grafiklerini inceleyerek yapabiliriz. Not: Şimdi, mevsimsel olarak farklılık gösteren stationary.csv'yi veri kümemiz olarak kullanıyoruz. Bunun nedeni, gerçekleştirilen manuel mevsimsel farkın, ARIMA modeli tarafından d parametresi ile gerçekleştirilen gecikme = 1 farkından farklı olmasıdır. Aşağıdaki örnek, seri için ACF ve PACF grafikleri oluşturur."
   ]
  },
  {
   "cell_type": "code",
   "execution_count": 18,
   "metadata": {},
   "outputs": [
    {
     "data": {
      "image/png": "[encoded data removed]",
      "text/plain": [
       "<Figure size 432x288 with 2 Axes>"
      ]
     },
     "metadata": {
      "needs_background": "light"
     },
     "output_type": "display_data"
    }
   ],
   "source": [
    "# ACF and PACF plots of time series\n",
    "from pandas import read_csv\n",
    "from statsmodels.graphics.tsaplots import plot_acf\n",
    "from statsmodels.graphics.tsaplots import plot_pacf\n",
    "from matplotlib import pyplot\n",
    "series = read_csv('stationary.csv', header=None, index_col=0, parse_dates=True,\n",
    "    squeeze=True)\n",
    "pyplot.figure()\n",
    "pyplot.subplot(211)\n",
    "plot_acf(series, lags=25, ax=pyplot.gca())\n",
    "pyplot.subplot(212)\n",
    "plot_pacf(series, lags=25, ax=pyplot.gca())\n",
    "pyplot.show()"
   ]
  },
  {
   "cell_type": "markdown",
   "metadata": {},
   "source": [
    "some observations from the plots.\n",
    "* The ACF shows a significant lag for 1 month.\n",
    "* PACF, 1 ay boyunca önemli bir gecikme gösterir, belki de 12 ve 13 aylarda önemli bir gecikme gösterir.\n",
    "* Hem ACF hem de PACF aynı noktada bir düşüş gösterir, belki de AR ve MA'nın bir karışımını gösterir."
   ]
  },
  {
   "cell_type": "markdown",
   "metadata": {},
   "source": [
    "P ve q değerleri için de iyi bir başlangıç ​​noktası 1'dir. PACF grafiği, farklılaştırılmış verilerde hâlâ bir miktar mevsimsellik olduğunu göstermektedir. Mevsimsel farklılıklardan ziyade doğrudan modelleme ve modelden açıkça çıkarma gibi daha iyi bir mevsimsellik modelini düşünebiliriz."
   ]
  },
  {
   "cell_type": "markdown",
   "metadata": {},
   "source": [
    "Bu hızlı analiz, sabit veriler üzerindeki bir ARIMA'nın (1,0,1) iyi bir başlangıç ​​noktası olabileceğini düşündürmektedir. Tarihi gözlemler, her ARIMA modelinin takılmasından önce mevsimsel olarak farklılaşacaktır. Fark, orijinal satış sayısı birimlerinde beklenen gözlemle doğrudan karşılaştırılabilir olmasını sağlamak için yapılan tüm tahminlerde tersine çevrilecektir. Deneyler, bu ARIMA konfigürasyonunun altta yatan tarafından birleşmediğini ve hatalarla sonuçlandığını göstermektedir."
   ]
  },
  {
   "cell_type": "markdown",
   "metadata": {},
   "source": [
    "Daha ileri deneyler, durağan verilere bir seviye farkın eklenmesinin modeli daha kararlı hale getirdiğini göstermiştir. Model ARIMA'ya (1,1,1) genişletilebilir."
   ]
  },
  {
   "cell_type": "code",
   "execution_count": 20,
   "metadata": {},
   "outputs": [
    {
     "name": "stdout",
     "output_type": "stream",
     "text": [
      ">Predicted=8089.794, Expected=8314.000\n",
      ">Predicted=9742.690, Expected=10651.000\n",
      ">Predicted=5986.917, Expected=3633.000\n",
      ">Predicted=3886.972, Expected=4292.000\n",
      ">Predicted=4038.101, Expected=4154.000\n",
      ">Predicted=4992.341, Expected=4121.000\n",
      ">Predicted=5156.557, Expected=4647.000\n",
      ">Predicted=5046.698, Expected=4753.000\n",
      ">Predicted=4143.817, Expected=3965.000\n",
      ">Predicted=2102.933, Expected=1723.000\n",
      ">Predicted=5228.260, Expected=5048.000\n",
      ">Predicted=5873.372, Expected=6922.000\n",
      ">Predicted=8571.297, Expected=9858.000\n",
      ">Predicted=11005.986, Expected=11331.000\n",
      ">Predicted=4087.489, Expected=4016.000\n",
      ">Predicted=4771.838, Expected=3957.000\n",
      ">Predicted=4676.128, Expected=4510.000\n",
      ">Predicted=4583.395, Expected=4276.000\n",
      ">Predicted=5117.348, Expected=4968.000\n",
      ">Predicted=5208.148, Expected=4677.000\n",
      ">Predicted=4436.442, Expected=3523.000\n",
      ">Predicted=2180.882, Expected=1821.000\n",
      ">Predicted=5471.214, Expected=5222.000\n",
      ">Predicted=7337.563, Expected=6872.000\n",
      ">Predicted=10268.404, Expected=10803.000\n",
      ">Predicted=11725.389, Expected=13916.000\n",
      ">Predicted=4519.406, Expected=2639.000\n",
      ">Predicted=4606.047, Expected=2899.000\n",
      ">Predicted=4938.791, Expected=3370.000\n",
      ">Predicted=4495.261, Expected=3740.000\n",
      ">Predicted=5109.010, Expected=2927.000\n",
      ">Predicted=4285.915, Expected=3986.000\n",
      ">Predicted=3155.258, Expected=4217.000\n",
      ">Predicted=1830.004, Expected=1738.000\n",
      ">Predicted=5135.171, Expected=5221.000\n",
      ">Predicted=6806.894, Expected=6424.000\n",
      ">Predicted=10644.039, Expected=9842.000\n",
      ">Predicted=13605.823, Expected=13076.000\n",
      ">Predicted=2265.382, Expected=3934.000\n",
      ">Predicted=2938.909, Expected=3162.000\n",
      ">Predicted=3341.705, Expected=4286.000\n",
      ">Predicted=3882.923, Expected=4676.000\n",
      ">Predicted=3157.016, Expected=5010.000\n",
      ">Predicted=4615.082, Expected=4874.000\n",
      ">Predicted=4624.998, Expected=4633.000\n",
      ">Predicted=2044.097, Expected=1659.000\n",
      ">Predicted=5404.429, Expected=5951.000\n",
      "RMSE: 956.947\n"
     ]
    }
   ],
   "source": [
    "# evaluate manually configured ARIMA model\n",
    "from pandas import read_csv\n",
    "from sklearn.metrics import mean_squared_error\n",
    "from statsmodels.tsa.arima_model import ARIMA\n",
    "from math import sqrt\n",
    "# create a differenced series\n",
    "def difference(dataset, interval=1):\n",
    "    diff = list()\n",
    "    for i in range(interval, len(dataset)):\n",
    "        value = dataset[i] - dataset[i - interval]\n",
    "        diff.append(value)\n",
    "    return diff\n",
    "# invert differenced value\n",
    "def inverse_difference(history, yhat, interval=1):\n",
    "    return yhat + history[-interval]\n",
    "# load data\n",
    "series = read_csv('dataset.csv', header=None, index_col=0, parse_dates=True, squeeze=True)\n",
    "# prepare data\n",
    "X = series.values\n",
    "X = X.astype('float32')\n",
    "train_size = int(len(X) * 0.50)\n",
    "train, test = X[0:train_size], X[train_size:]\n",
    "# walk-forward validation\n",
    "history = [x for x in train]\n",
    "predictions = list()\n",
    "for i in range(len(test)):\n",
    "    # difference data\n",
    "    months_in_year = 12\n",
    "    diff = difference(history, months_in_year)\n",
    "    # predict\n",
    "    model = ARIMA(diff, order=(1,1,1))\n",
    "    model_fit = model.fit(trend='nc', disp=0)\n",
    "    yhat = model_fit.forecast()[0]\n",
    "    yhat = inverse_difference(history, yhat, months_in_year) \n",
    "    predictions.append(yhat)\n",
    "    # observation\n",
    "    obs = test[i]\n",
    "    history.append(obs)\n",
    "    print('>Predicted=%.3f, Expected=%.3f' % (yhat, obs))\n",
    "# report performance\n",
    "rmse = sqrt(mean_squared_error(test, predictions)) \n",
    "print('RMSE: %.3f' % rmse)\n"
   ]
  },
  {
   "cell_type": "markdown",
   "metadata": {},
   "source": [
    "## Grid Search ARIMA Hyperparameters\n",
    "* p: 0 to 6.\n",
    "* d: 0 to 2\n",
    "* q: 0 to 6."
   ]
  },
  {
   "cell_type": "code",
   "execution_count": 23,
   "metadata": {},
   "outputs": [
    {
     "name": "stdout",
     "output_type": "stream",
     "text": [
      "ARIMA(0, 0, 1) RMSE=939.464\n",
      "ARIMA(4, 0, 1) RMSE=928.093\n",
      "Best ARIMA(4, 0, 1) RMSE=928.093\n"
     ]
    }
   ],
   "source": [
    "# grid search ARIMA parameters for time series\n",
    "import warnings\n",
    "from pandas import read_csv\n",
    "from statsmodels.tsa.arima_model import ARIMA\n",
    "from sklearn.metrics import mean_squared_error\n",
    "from math import sqrt\n",
    "import numpy\n",
    "# create a differenced series\n",
    "def difference(dataset, interval=1):\n",
    "    diff = list()\n",
    "    for i in range(interval, len(dataset)):\n",
    "        value = dataset[i] - dataset[i - interval]\n",
    "        diff.append(value)\n",
    "    return numpy.array(diff)\n",
    "# invert differenced value\n",
    "def inverse_difference(history, yhat, interval=1):\n",
    "    return yhat + history[-interval]\n",
    "# evaluate an ARIMA model for a given order (p,d,q) and return RMSE\n",
    "def evaluate_arima_model(X, arima_order):\n",
    "    # prepare training dataset\n",
    "    X = X.astype('float32')\n",
    "    train_size = int(len(X) * 0.50)\n",
    "    train, test = X[0:train_size], X[train_size:]\n",
    "    history = [x for x in train]\n",
    "    # make predictions\n",
    "    predictions = list()\n",
    "    for t in range(len(test)):\n",
    "        # difference data\n",
    "        months_in_year = 12\n",
    "        diff = difference(history, months_in_year) \n",
    "        model = ARIMA(diff, order=arima_order) \n",
    "        model_fit = model.fit(trend='nc', disp=0) \n",
    "        yhat = model_fit.forecast()[0]\n",
    "        yhat = inverse_difference(history, yhat, months_in_year)\n",
    "        predictions.append(yhat)\n",
    "        history.append(test[t])\n",
    "        # calculate out of sample error\n",
    "    rmse = sqrt(mean_squared_error(test, predictions))\n",
    "    return rmse\n",
    "# evaluate combinations of p, d and q values for an ARIMA model\n",
    "def evaluate_models(dataset, p_values, d_values, q_values): \n",
    "    dataset = dataset.astype('float32')\n",
    "    best_score, best_cfg = float(\"inf\"), None\n",
    "    for p in p_values:\n",
    "        for d in d_values:\n",
    "            for q in q_values:\n",
    "                order = (p,d,q)\n",
    "                try:\n",
    "                    rmse = evaluate_arima_model(dataset, order)\n",
    "                    if rmse < best_score:\n",
    "                        best_score, best_cfg = rmse, order \n",
    "                        print('ARIMA%s RMSE=%.3f' % (order,rmse))\n",
    "                except:\n",
    "                    continue\n",
    "    print('Best ARIMA%s RMSE=%.3f' % (best_cfg, best_score))\n",
    "# load dataset\n",
    "series = read_csv('dataset.csv', header=None, index_col=0, parse_dates=True, squeeze=True)\n",
    "# evaluate parameters\n",
    "p_values = range(0, 7)\n",
    "d_values = range(0, 3)\n",
    "q_values = range(0, 7)\n",
    "warnings.filterwarnings(\"ignore\")\n",
    "evaluate_models(series.values, p_values, d_values, q_values)"
   ]
  },
  {
   "cell_type": "markdown",
   "metadata": {},
   "source": [
    "## Review Residual Errors"
   ]
  },
  {
   "cell_type": "code",
   "execution_count": 25,
   "metadata": {},
   "outputs": [
    {
     "name": "stdout",
     "output_type": "stream",
     "text": [
      "                 0\n",
      "count    47.000000\n",
      "mean    165.904730\n",
      "std     934.696204\n",
      "min   -2164.247449\n",
      "25%    -289.651596\n",
      "50%     191.759548\n",
      "75%     732.992187\n",
      "max    2367.304815\n"
     ]
    },
    {
     "data": {
      "image/png": "[encoded data removed]",
      "text/plain": [
       "<Figure size 432x288 with 2 Axes>"
      ]
     },
     "metadata": {
      "needs_background": "light"
     },
     "output_type": "display_data"
    }
   ],
   "source": [
    "# summarize ARIMA forecast residuals\n",
    "from pandas import read_csv\n",
    "from pandas import DataFrame\n",
    "from statsmodels.tsa.arima_model import ARIMA\n",
    "from matplotlib import pyplot\n",
    "# create a differenced series\n",
    "def difference(dataset, interval=1):\n",
    "    diff = list()\n",
    "    for i in range(interval, len(dataset)):\n",
    "        value = dataset[i] - dataset[i - interval]\n",
    "        diff.append(value)\n",
    "    return diff\n",
    "# invert differenced value\n",
    "def inverse_difference(history, yhat, interval=1):\n",
    "    return yhat + history[-interval]\n",
    "# load data\n",
    "series = read_csv('dataset.csv', header=None, index_col=0, parse_dates=True, squeeze=True)\n",
    "# prepare data\n",
    "X = series.values\n",
    "X = X.astype('float32')\n",
    "train_size = int(len(X) * 0.50)\n",
    "train, test = X[0:train_size], X[train_size:]\n",
    "# walk-forward validation\n",
    "history = [x for x in train]\n",
    "predictions = list()\n",
    "for i in range(len(test)):\n",
    "    # difference data\n",
    "    months_in_year = 12\n",
    "    diff = difference(history, months_in_year)\n",
    "    # predict\n",
    "    model = ARIMA(diff, order=(0,0,1))\n",
    "    model_fit = model.fit(trend='nc', disp=0)\n",
    "    yhat = model_fit.forecast()[0]\n",
    "    yhat = inverse_difference(history, yhat, months_in_year) \n",
    "    predictions.append(yhat)\n",
    "    # observation\n",
    "    obs = test[i]\n",
    "    history.append(obs)\n",
    "# errors\n",
    "residuals = [test[i]-predictions[i] for i in range(len(test))]\n",
    "residuals = DataFrame(residuals)\n",
    "print(residuals.describe())\n",
    "# plot\n",
    "pyplot.figure()\n",
    "pyplot.subplot(211) \n",
    "residuals.hist(ax=pyplot.gca()) \n",
    "pyplot.subplot(212) \n",
    "residuals.plot(kind='kde', ax=pyplot.gca()) \n",
    "pyplot.show()"
   ]
  },
  {
   "cell_type": "markdown",
   "metadata": {},
   "source": [
    "Kalan hataların dağılımı da çizilmiştir. Grafikler, belki de bir güç dönüşümünün keşfetmeye değer olabileceğine dair daha fazla kanıt sağlayan, inişli çıkışlı bir sol kuyruk ile Gauss benzeri bir dağılım olduğunu gösteriyor."
   ]
  },
  {
   "cell_type": "markdown",
   "metadata": {},
   "source": [
    "Yapılan bu tahminlere 165.904728 ortalama artık hata ekleyerek bu bilgiyi önyargıları düzeltmek için kullanabiliriz. Aşağıdaki örnek bu sapma korelasyonunu gerçekleştirir."
   ]
  },
  {
   "cell_type": "code",
   "execution_count": 27,
   "metadata": {},
   "outputs": [
    {
     "name": "stdout",
     "output_type": "stream",
     "text": [
      "RMSE: 924.699\n",
      "                 0\n",
      "count    47.000000\n",
      "mean      0.000002\n",
      "std     934.696204\n",
      "min   -2330.152177\n",
      "25%    -455.556324\n",
      "50%      25.854820\n",
      "75%     567.087459\n",
      "max    2201.400087\n"
     ]
    },
    {
     "data": {
      "image/png": "[encoded data removed]",
      "text/plain": [
       "<Figure size 432x288 with 2 Axes>"
      ]
     },
     "metadata": {
      "needs_background": "light"
     },
     "output_type": "display_data"
    }
   ],
   "source": [
    "# plots of residual errors of bias corrected forecasts\n",
    "from pandas import read_csv\n",
    "from pandas import DataFrame\n",
    "from statsmodels.tsa.arima_model import ARIMA\n",
    "from matplotlib import pyplot\n",
    "from sklearn.metrics import mean_squared_error\n",
    "from math import sqrt\n",
    "# create a differenced series\n",
    "def difference(dataset, interval=1):\n",
    "    diff = list()\n",
    "    for i in range(interval, len(dataset)):\n",
    "        value = dataset[i] - dataset[i - interval]\n",
    "        diff.append(value)\n",
    "    return diff\n",
    "# invert differenced value\n",
    "def inverse_difference(history, yhat, interval=1):\n",
    "    return yhat + history[-interval]\n",
    "# load data\n",
    "series = read_csv('dataset.csv', header=None, index_col=0, parse_dates=True, squeeze=True)\n",
    "# prepare data\n",
    "X = series.values\n",
    "X = X.astype('float32')\n",
    "train_size = int(len(X) * 0.50)\n",
    "train, test = X[0:train_size], X[train_size:]\n",
    "# walk-forward validation\n",
    "history = [x for x in train]\n",
    "predictions = list()\n",
    "bias = 165.904728\n",
    "for i in range(len(test)):\n",
    "    # difference data\n",
    "    months_in_year = 12\n",
    "    diff = difference(history, months_in_year)\n",
    "    # predict\n",
    "    model = ARIMA(diff, order=(0,0,1))\n",
    "    model_fit = model.fit(trend='nc', disp=0)\n",
    "    yhat = model_fit.forecast()[0]\n",
    "    yhat = bias + inverse_difference(history, yhat, months_in_year) \n",
    "    predictions.append(yhat)\n",
    "    # observation\n",
    "    obs = test[i]\n",
    "    history.append(obs)\n",
    "    # report performance\n",
    "rmse = sqrt(mean_squared_error(test, predictions)) \n",
    "print('RMSE: %.3f' % rmse)\n",
    "# errors\n",
    "residuals = [test[i]-predictions[i] for i in range(len(test))] \n",
    "residuals = DataFrame(residuals)\n",
    "print(residuals.describe())\n",
    "# plot\n",
    "pyplot.figure()\n",
    "pyplot.subplot(211) \n",
    "residuals.hist(ax=pyplot.gca()) \n",
    "pyplot.subplot(212) \n",
    "residuals.plot(kind='kde', ax=pyplot.gca()) \n",
    "pyplot.show()"
   ]
  },
  {
   "cell_type": "markdown",
   "metadata": {},
   "source": [
    "Tahminlerin performansı, 939.464'ten 924.699'a çok az bir miktar geliştirildi; bu, önemli olabilir veya olmayabilir. Tahmin kalan hataların özeti, ortalamanın gerçekten sıfıra çok yakın bir değere taşındığını gösterir."
   ]
  },
  {
   "cell_type": "markdown",
   "metadata": {},
   "source": [
    "Her türlü otokorelasyon için kalan hataların zaman serilerini kontrol etmek de iyi bir fikirdir. Varsa, modelin verilerdeki zamansal yapıyı modellemek için daha fazla fırsata sahip olduğunu önerecektir. Aşağıdaki örnek, kalan hataları yeniden hesaplar ve önemli otokorelasyonu kontrol etmek için ACF ve PACF grafikleri oluşturur."
   ]
  },
  {
   "cell_type": "code",
   "execution_count": 29,
   "metadata": {},
   "outputs": [
    {
     "name": "stdout",
     "output_type": "stream",
     "text": [
      "                 0\n",
      "count    47.000000\n",
      "mean    165.904730\n",
      "std     934.696204\n",
      "min   -2164.247449\n",
      "25%    -289.651596\n",
      "50%     191.759548\n",
      "75%     732.992187\n",
      "max    2367.304815\n"
     ]
    },
    {
     "data": {
      "image/png": "[encoded data removed]",
      "text/plain": [
       "<Figure size 432x288 with 2 Axes>"
      ]
     },
     "metadata": {
      "needs_background": "light"
     },
     "output_type": "display_data"
    }
   ],
   "source": [
    "# ACF and PACF plots of residual errors of bias corrected forecasts\n",
    "from pandas import read_csv\n",
    "from pandas import DataFrame\n",
    "from statsmodels.tsa.arima_model import ARIMA\n",
    "from matplotlib import pyplot\n",
    "from statsmodels.graphics.tsaplots import plot_acf\n",
    "from statsmodels.graphics.tsaplots import plot_pacf\n",
    "# create a differenced series\n",
    "def difference(dataset, interval=1):\n",
    "    diff = list()\n",
    "    for i in range(interval, len(dataset)):\n",
    "        value = dataset[i] - dataset[i - interval]\n",
    "        diff.append(value)\n",
    "    return diff\n",
    "# invert differenced value\n",
    "def inverse_difference(history, yhat, interval=1):\n",
    "    return yhat + history[-interval]\n",
    "# load data\n",
    "series = read_csv('dataset.csv', header=None, index_col=0, parse_dates=True, squeeze=True)\n",
    "# prepare data\n",
    "X = series.values\n",
    "X = X.astype('float32')\n",
    "train_size = int(len(X) * 0.50)\n",
    "train, test = X[0:train_size], X[train_size:]\n",
    "# walk-forward validation\n",
    "history = [x for x in train]\n",
    "predictions = list()\n",
    "for i in range(len(test)):\n",
    "    # difference data\n",
    "    months_in_year = 12\n",
    "    diff = difference(history, months_in_year)\n",
    "    # predict\n",
    "    model = ARIMA(diff, order=(0,0,1))\n",
    "    model_fit = model.fit(trend='nc', disp=0)\n",
    "    yhat = model_fit.forecast()[0]\n",
    "    yhat = inverse_difference(history, yhat, months_in_year) \n",
    "    predictions.append(yhat)\n",
    "    # observation\n",
    "    obs = test[i]\n",
    "    history.append(obs)\n",
    "# errors\n",
    "residuals = [test[i]-predictions[i] for i in range(len(test))]\n",
    "residuals = DataFrame(residuals)\n",
    "print(residuals.describe())\n",
    "# plot\n",
    "pyplot.figure()\n",
    "pyplot.subplot(211)\n",
    "plot_acf(residuals, ax=pyplot.gca())\n",
    "pyplot.subplot(212)\n",
    "plot_pacf(residuals, ax=pyplot.gca())\n",
    "pyplot.show()"
   ]
  },
  {
   "cell_type": "markdown",
   "metadata": {},
   "source": [
    "Sonuçlar, zaman serisinde ne kadar az otokorelasyonun model tarafından yakalandığını göstermektedir."
   ]
  },
  {
   "cell_type": "markdown",
   "metadata": {},
   "source": [
    "## Model Validation\n",
    "* Finalize Model: Train and save the final model.\n",
    "* Make Prediction: Load the finalized model and make a prediction. 􏰀 \n",
    "* Validate Model: Load and validate the final model."
   ]
  },
  {
   "cell_type": "code",
   "execution_count": 30,
   "metadata": {},
   "outputs": [],
   "source": [
    "# save finalized model\n",
    "from pandas import read_csv\n",
    "from statsmodels.tsa.arima_model import ARIMA\n",
    "import numpy\n",
    "# monkey patch around bug in ARIMA class\n",
    "def __getnewargs__(self):\n",
    "    return ((self.endog),(self.k_lags, self.k_diff, self.k_ma))\n",
    "ARIMA.__getnewargs__ = __getnewargs__\n",
    "# create a differenced series\n",
    "def difference(dataset, interval=1):\n",
    "    diff = list()\n",
    "    for i in range(interval, len(dataset)):\n",
    "        value = dataset[i] - dataset[i - interval]\n",
    "        diff.append(value)\n",
    "    return diff\n",
    "# load data\n",
    "series = read_csv('dataset.csv', header=None, index_col=0, parse_dates=True, squeeze=True)\n",
    "# prepare data\n",
    "X = series.values\n",
    "X = X.astype('float32')\n",
    "# difference data\n",
    "months_in_year = 12\n",
    "diff = difference(X, months_in_year)\n",
    "# fit model\n",
    "model = ARIMA(diff, order=(4,0,1))\n",
    "model_fit = model.fit(trend='nc', disp=0)\n",
    "# bias constant, could be calculated from in-sample mean residual \n",
    "bias = 165.904728\n",
    "# save model\n",
    "model_fit.save('model.pkl')\n",
    "numpy.save('model_bias.npy', [bias])"
   ]
  },
  {
   "cell_type": "markdown",
   "metadata": {},
   "source": [
    "## Make Prediction"
   ]
  },
  {
   "cell_type": "code",
   "execution_count": 31,
   "metadata": {},
   "outputs": [
    {
     "name": "stdout",
     "output_type": "stream",
     "text": [
      "Predicted: 6832.354\n"
     ]
    }
   ],
   "source": [
    "# load finalized model and make a prediction\n",
    "from pandas import read_csv\n",
    "from statsmodels.tsa.arima_model import ARIMAResults\n",
    "import numpy\n",
    "# invert differenced value\n",
    "def inverse_difference(history, yhat, interval=1):\n",
    "    return yhat + history[-interval]\n",
    "series = read_csv('dataset.csv', header=None, index_col=0, parse_dates=True, squeeze=True)\n",
    "months_in_year = 12\n",
    "model_fit = ARIMAResults.load('model.pkl')\n",
    "bias = numpy.load('model_bias.npy')\n",
    "yhat = float(model_fit.forecast()[0])\n",
    "yhat = bias + inverse_difference(series.values, yhat, months_in_year) \n",
    "print('Predicted: %.3f' % yhat)"
   ]
  },
  {
   "cell_type": "markdown",
   "metadata": {},
   "source": [
    "## Validate Model"
   ]
  },
  {
   "cell_type": "code",
   "execution_count": 33,
   "metadata": {},
   "outputs": [
    {
     "name": "stdout",
     "output_type": "stream",
     "text": [
      ">Predicted=6832.354, Expected=6981.000\n",
      ">Predicted=10101.763, Expected=9851.000\n",
      ">Predicted=13219.067, Expected=12670.000\n",
      ">Predicted=3996.535, Expected=4348.000\n",
      ">Predicted=3465.934, Expected=3564.000\n",
      ">Predicted=4522.683, Expected=4577.000\n",
      ">Predicted=4901.336, Expected=4788.000\n",
      ">Predicted=5190.094, Expected=4618.000\n",
      ">Predicted=4930.190, Expected=5312.000\n",
      ">Predicted=4944.785, Expected=4298.000\n",
      ">Predicted=1699.409, Expected=1413.000\n",
      ">Predicted=6085.324, Expected=5877.000\n",
      "RMSE: 359.655\n"
     ]
    },
    {
     "data": {
      "image/png": "[encoded data removed]",
      "text/plain": [
       "<Figure size 432x288 with 1 Axes>"
      ]
     },
     "metadata": {
      "needs_background": "light"
     },
     "output_type": "display_data"
    }
   ],
   "source": [
    "# load and evaluate the finalized model on the validation dataset\n",
    "from pandas import read_csv\n",
    "from matplotlib import pyplot\n",
    "from statsmodels.tsa.arima_model import ARIMA\n",
    "from statsmodels.tsa.arima_model import ARIMAResults\n",
    "from sklearn.metrics import mean_squared_error\n",
    "from math import sqrt\n",
    "import numpy\n",
    "# create a differenced series\n",
    "def difference(dataset, interval=1):\n",
    "    diff = list()\n",
    "    for i in range(interval, len(dataset)):\n",
    "        value = dataset[i] - dataset[i - interval]\n",
    "        diff.append(value)\n",
    "    return diff\n",
    "# invert differenced value\n",
    "def inverse_difference(history, yhat, interval=1):\n",
    "    return yhat + history[-interval]\n",
    "# load and prepare datasets\n",
    "dataset = read_csv('dataset.csv', header=None, index_col=0, parse_dates=True, squeeze=True) \n",
    "X = dataset.values.astype('float32')\n",
    "history = [x for x in X]\n",
    "months_in_year = 12\n",
    "validation = read_csv('validation.csv', header=None, index_col=0, parse_dates=True, squeeze=True)\n",
    "y = validation.values.astype('float32')\n",
    "# load model\n",
    "model_fit = ARIMAResults.load('model.pkl') \n",
    "bias = numpy.load('model_bias.npy')\n",
    "# make first prediction\n",
    "predictions = list()\n",
    "yhat = float(model_fit.forecast()[0])\n",
    "yhat = bias + inverse_difference(history, yhat, months_in_year) \n",
    "predictions.append(yhat)\n",
    "history.append(y[0])\n",
    "print('>Predicted=%.3f, Expected=%.3f' % (yhat, y[0]))\n",
    "# rolling forecasts\n",
    "for i in range(1, len(y)):\n",
    "    # difference data\n",
    "    months_in_year = 12\n",
    "    diff = difference(history, months_in_year)\n",
    "    # predict\n",
    "    model = ARIMA(diff, order=(0,0,1))\n",
    "    model_fit = model.fit(trend='nc', disp=0)\n",
    "    yhat = model_fit.forecast()[0]\n",
    "    yhat = bias + inverse_difference(history, yhat, months_in_year) \n",
    "    predictions.append(yhat)\n",
    "    # observation\n",
    "    obs = y[i]\n",
    "    history.append(obs)\n",
    "    print('>Predicted=%.3f, Expected=%.3f' % (yhat, obs))\n",
    "# report performance\n",
    "rmse = sqrt(mean_squared_error(y, predictions)) \n",
    "print('RMSE: %.3f' % rmse)\n",
    "pyplot.plot(y)\n",
    "pyplot.plot(predictions, color='red') \n",
    "pyplot.show()"
   ]
  },
  {
   "cell_type": "markdown",
   "metadata": {},
   "source": [
    "Doğrulama veri kümesine kıyasla tahminlerin bir grafiği de verilmiştir. Arsadaki bu ölçekte, 12 aylık tahmini satış rakamları harika görünüyor."
   ]
  },
  {
   "cell_type": "code",
   "execution_count": null,
   "metadata": {},
   "outputs": [],
   "source": []
  }
 ],
 "metadata": {
  "kernelspec": {
   "display_name": "Python 3",
   "language": "python",
   "name": "python3"
  },
  "language_info": {
   "codemirror_mode": {
    "name": "ipython",
    "version": 3
   },
   "file_extension": ".py",
   "mimetype": "text/x-python",
   "name": "python",
   "nbconvert_exporter": "python",
   "pygments_lexer": "ipython3",
   "version": "3.7.6"
  }
 },
 "nbformat": 4,
 "nbformat_minor": 4
}
