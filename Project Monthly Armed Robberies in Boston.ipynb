{
 "cells": [
  {
   "cell_type": "markdown",
   "metadata": {},
   "source": [
    "# Project: Monthly Armed Robberies in Boston"
   ]
  },
  {
   "cell_type": "markdown",
   "metadata": {},
   "source": [
    "Zaman serisi tahmini bir süreçtir ve iyi tahminler almanın tek yolu bu süreci uygulamaktır. Bu yazıda, Python ile Boston'daki aylık silahlı soygun sayısını nasıl tahmin edeceğinizi keşfedeceksiniz. Bu eğitimde çalışmak, kendi zaman serisi tahmin sorunlarınız üzerinde çalışmak için adımlar ve araçlar için bir çerçeve sağlayacaktır"
   ]
  },
  {
   "cell_type": "markdown",
   "metadata": {},
   "source": [
    "Bu derste, uçtan uca, veri kümesini indirmekten ve sorunu tanımlamaktan nihai bir modeli eğitmeye ve tahminler yapmaya kadar bir zaman serisi tahmini projesi üzerinde çalışacağız. Bu proje kapsamlı değildir, ancak problemi sistematik olarak tahmin eden bir zaman serisi tahminiyle nasıl hızlı bir şekilde iyi sonuçlar alabileceğinizi gösterir. Bu projenin üzerinde çalışacağımız adımlar aşağıdaki gibidir:\n",
    "1. Sorun Açıklaması\n",
    "2. Test Donanımı.\n",
    "3. Persistence\n",
    "4. Veri analizi\n",
    "5. ARIMA Models\n",
    "6. Model geçerliliği ,Bu, kendi veri kümenizde kullanabileceğiniz bir zaman serisi tahmin problemi üzerinde çalışmak için bir şablon sağlayacaktır."
   ]
  },
  {
   "cell_type": "markdown",
   "metadata": {},
   "source": [
    "## Problem Description"
   ]
  },
  {
   "cell_type": "markdown",
   "metadata": {},
   "source": [
    "Sorun, ABD'nin Boston kentindeki aylık silahlı soygun sayısını tahmin etmektir. Veri seti, Ocak 1966'dan Ekim 1975'e kadar veya 10 yıldan biraz daha az bir süredir Boston'daki aylık silahlı soygun sayısını sağlar. Değerler bir sayıdır ve 118 gözlem vardır. Veri kümesi McCleary ve Hay (1980) 'e yatırılmıştır. Aşağıda, veri kümesinin ilk birkaç satırının bir örneği verilmiştir."
   ]
  },
  {
   "cell_type": "code",
   "execution_count": 3,
   "metadata": {},
   "outputs": [
    {
     "data": {
      "text/plain": [
       "Month\n",
       "1966-01-01    41\n",
       "1966-02-01    39\n",
       "1966-03-01    50\n",
       "1966-04-01    40\n",
       "1966-05-01    43\n",
       "Name: Robberies, dtype: int64"
      ]
     },
     "execution_count": 3,
     "metadata": {},
     "output_type": "execute_result"
    }
   ],
   "source": [
    "import pandas as pd\n",
    "series = pd.read_csv('robbery.csv',sep=\";\", header=0, index_col=0, parse_dates=True, squeeze=True)\n",
    "series.head()"
   ]
  },
  {
   "cell_type": "code",
   "execution_count": 8,
   "metadata": {},
   "outputs": [
    {
     "data": {
      "text/plain": [
       "count    118.000000\n",
       "mean     196.288136\n",
       "std      128.043602\n",
       "min       29.000000\n",
       "25%       85.500000\n",
       "50%      166.000000\n",
       "75%      296.750000\n",
       "max      500.000000\n",
       "Name: Robberies, dtype: float64"
      ]
     },
     "execution_count": 8,
     "metadata": {},
     "output_type": "execute_result"
    }
   ],
   "source": [
    "series = pd.Series(series)\n",
    "series.describe()"
   ]
  },
  {
   "cell_type": "markdown",
   "metadata": {},
   "source": [
    "## Test Donanımı \n",
    "Verileri araştırmak ve aday modelleri değerlendirmek için bir test bandı geliştirmeliyiz. Bu iki adımdan oluşur:\n",
    "1. Doğrulama Veri Kümesi Tanımlama\n",
    "2. Model Değerlendirme Yöntemi Geliştirmek.\n"
   ]
  },
  {
   "cell_type": "markdown",
   "metadata": {},
   "source": [
    "## Validation Dataset\n",
    "Veri kümesi güncel değil. Bu, modeli doğrulamak için güncellenmiş verileri kolayca toplayamayacağımız anlamına gelir. Bu nedenle, Ekim 1974 olduğunu iddia edeceğiz ve analiz ve model seçiminden son bir yıllık verileri saklayacağız. Bu son veri yılı, son modeli doğrulamak için kullanılacaktır. "
   ]
  },
  {
   "cell_type": "code",
   "execution_count": 10,
   "metadata": {},
   "outputs": [
    {
     "name": "stdout",
     "output_type": "stream",
     "text": [
      "Dataset 106, Validation 12\n"
     ]
    }
   ],
   "source": [
    "split_point = len(series) - 12\n",
    "dataset, validation = series[0:split_point], series[split_point:]\n",
    "print('Dataset %d, Validation %d' % (len(dataset), len(validation))) \n",
    "dataset.to_csv('dataset.csv', header=False)\n",
    "validation.to_csv('validation.csv', header=False)"
   ]
  },
  {
   "cell_type": "markdown",
   "metadata": {},
   "source": [
    "## Model Evaluation\n",
    "Model değerlendirmesi yalnızca önceki bölümde hazırlanan dataset.csv dosyasındaki veriler üzerinde yapılacaktır. Model değerlendirme iki unsurdan oluşur:\n",
    "* Performance Measure.\n",
    "* Test Strategy.\n"
   ]
  },
  {
   "cell_type": "markdown",
   "metadata": {},
   "source": [
    "## Performance Measure\n",
    "Tahminlerin performansını kök ortalama kare hatası (RMSE) kullanarak değerlendireceğiz. Bu, oldukça yanlış olan ve orijinal verilerle aynı birimlere sahip olacak tahminlere daha fazla ağırlık verecektir. Farklı yöntemler arasındaki performansı doğrudan karşılaştırılabilir hale getirmek için RMSE hesaplanmadan ve raporlanmadan önce verilere yapılan tüm dönüşümler tersine çevrilmelidir."
   ]
  },
  {
   "cell_type": "markdown",
   "metadata": {},
   "source": [
    "## Test Strategy\n",
    "Aday modeller ileriye doğru doğrulama kullanılarak değerlendirilecektir. Bunun nedeni, problem tanımından bir yuvarlanma tahmini türü modelinin gerekli olmasıdır. Bu, mevcut tüm veriler göz önüne alındığında tek adımlı tahminlerin gerektiği yerdir. İleri doğrulama aşağıdaki gibi çalışacaktır:\n",
    "1. Veri setinin ilk% 50'si modeli eğitmek için geri tutulacaktır.\n",
    "2. Veri kümesinin kalan% 50'si yinelenir ve modeli test eder.\n",
    "3. Test veri kümesindeki her adım için:\n",
    "(a) Bir model eğitilecektir.\n",
    "(b) Tek adımlı bir tahmin ve tahmin daha sonra değerlendirilmek üzere saklanır.\n",
    "(c) Test veri kümesinden gerçek gözlem, bir sonraki yineleme için eğitim veri kümesine eklenecektir.\n",
    "4. Test veri kümesinin tekrarlanması sırasında yapılan tahminler değerlendirilecek ve bir RMSE puanı rapor edilecektir.\n",
    "* Verilerin küçük boyutu göz önüne alındığında, her tahmin öncesinde mevcut tüm veriler göz önüne alındığında bir modelin yeniden eğitilmesine izin vereceğiz. Test koşumunun kodunu basit NumPy ve Python kodlarını kullanarak yazabiliriz. İlk olarak, veri setini doğrudan tren ve test setlerine bölebiliriz. Yüklenen verilerin hala bazı String veya Integer veri türlerine sahip olması durumunda yüklü bir veri kümesini float32'ye dönüştürmeye özen gösteririz.\n",
    "\n"
   ]
  },
  {
   "cell_type": "code",
   "execution_count": 11,
   "metadata": {},
   "outputs": [],
   "source": [
    "# prepare data\n",
    "X = series.values\n",
    "X = X.astype('float32')\n",
    "train_size = int(len(X) * 0.50)\n",
    "train, test = X[0:train_size], X[train_size:]"
   ]
  },
  {
   "cell_type": "markdown",
   "metadata": {},
   "source": [
    "## Persistence\n",
    "Veri analizi ve modellemesinde bataklığa düşmeden önceki ilk adım, performansın temelini oluşturmaktır. Bu, hem önerilen test kayışını kullanarak modelleri değerlendirmek için hem de daha ayrıntılı tahmin modellerinin karşılaştırılabileceği bir performans ölçüsü için bir şablon sağlayacaktır. Zaman serisi tahmini için temel tahmin naif tahmin veya kalıcılık olarak adlandırılır. Bu, bir önceki zaman adımındaki gözlemin, bir sonraki zaman adımındaki gözlem için tahmin olarak kullanıldığı yerdir. Bunu doğrudan önceki bölümde tanımlanan test cihazına bağlayabiliriz. Kod listesinin tamamı aşağıda verilmiştir."
   ]
  },
  {
   "cell_type": "code",
   "execution_count": 14,
   "metadata": {
    "scrolled": true
   },
   "outputs": [
    {
     "name": "stdout",
     "output_type": "stream",
     "text": [
      ">Predicted=98.000, Expected=125.000\n",
      ">Predicted=125.000, Expected=155.000\n",
      ">Predicted=155.000, Expected=190.000\n",
      ">Predicted=190.000, Expected=236.000\n",
      ">Predicted=236.000, Expected=189.000\n",
      ">Predicted=189.000, Expected=174.000\n",
      ">Predicted=174.000, Expected=178.000\n",
      ">Predicted=178.000, Expected=136.000\n",
      ">Predicted=136.000, Expected=161.000\n",
      ">Predicted=161.000, Expected=171.000\n",
      ">Predicted=171.000, Expected=149.000\n",
      ">Predicted=149.000, Expected=184.000\n",
      ">Predicted=184.000, Expected=155.000\n",
      ">Predicted=155.000, Expected=276.000\n",
      ">Predicted=276.000, Expected=224.000\n",
      ">Predicted=224.000, Expected=213.000\n",
      ">Predicted=213.000, Expected=279.000\n",
      ">Predicted=279.000, Expected=268.000\n",
      ">Predicted=268.000, Expected=287.000\n",
      ">Predicted=287.000, Expected=238.000\n",
      ">Predicted=238.000, Expected=213.000\n",
      ">Predicted=213.000, Expected=257.000\n",
      ">Predicted=257.000, Expected=293.000\n",
      ">Predicted=293.000, Expected=212.000\n",
      ">Predicted=212.000, Expected=246.000\n",
      ">Predicted=246.000, Expected=353.000\n",
      ">Predicted=353.000, Expected=339.000\n",
      ">Predicted=339.000, Expected=308.000\n",
      ">Predicted=308.000, Expected=247.000\n",
      ">Predicted=247.000, Expected=257.000\n",
      ">Predicted=257.000, Expected=322.000\n",
      ">Predicted=322.000, Expected=298.000\n",
      ">Predicted=298.000, Expected=273.000\n",
      ">Predicted=273.000, Expected=312.000\n",
      ">Predicted=312.000, Expected=249.000\n",
      ">Predicted=249.000, Expected=286.000\n",
      ">Predicted=286.000, Expected=279.000\n",
      ">Predicted=279.000, Expected=309.000\n",
      ">Predicted=309.000, Expected=401.000\n",
      ">Predicted=401.000, Expected=309.000\n",
      ">Predicted=309.000, Expected=328.000\n",
      ">Predicted=328.000, Expected=353.000\n",
      ">Predicted=353.000, Expected=354.000\n",
      ">Predicted=354.000, Expected=327.000\n",
      ">Predicted=327.000, Expected=324.000\n",
      ">Predicted=324.000, Expected=285.000\n",
      ">Predicted=285.000, Expected=243.000\n",
      ">Predicted=243.000, Expected=241.000\n",
      ">Predicted=241.000, Expected=287.000\n",
      ">Predicted=287.000, Expected=355.000\n",
      ">Predicted=355.000, Expected=460.000\n",
      ">Predicted=460.000, Expected=364.000\n",
      ">Predicted=364.000, Expected=487.000\n",
      "RMSE: 51.844\n"
     ]
    }
   ],
   "source": [
    "# evaluate a persistence model\n",
    "from pandas import read_csv\n",
    "from sklearn.metrics import mean_squared_error\n",
    "from math import sqrt\n",
    "# load data\n",
    "series = read_csv('dataset.csv', header=None, index_col=0, parse_dates=True, squeeze=True) # prepare data\n",
    "X = series.values\n",
    "X = X.astype('float32')\n",
    "train_size = int(len(X) * 0.50)\n",
    "train, test = X[0:train_size], X[train_size:]\n",
    "# walk-forward validation\n",
    "history = [x for x in train]\n",
    "predictions = list()\n",
    "for i in range(len(test)):\n",
    "# predict\n",
    "    yhat = history[-1]\n",
    "    predictions.append(yhat)\n",
    "# observation\n",
    "    obs = test[i]\n",
    "    history.append(obs)\n",
    "    print('>Predicted=%.3f, Expected=%.3f' % (yhat, obs))\n",
    "# report performance\n",
    "rmse = sqrt(mean_squared_error(test, predictions)) \n",
    "print('RMSE: %.3f' % rmse)"
   ]
  },
  {
   "cell_type": "markdown",
   "metadata": {},
   "source": [
    "## Veri analizi\n",
    "Tahmin probleminin yapısı hakkında hızlı bir şekilde daha fazla bilgi edinmek için özet istatistikleri ve verilerin grafiklerini kullanabiliriz. Bu bölümde, verilere dört açıdan bakacağız:\n",
    "1. Summary Statistics.\n",
    "2. Line Plot.\n",
    "3. Density Plots.\n",
    "4. Box and Whisker Plot."
   ]
  },
  {
   "cell_type": "markdown",
   "metadata": {},
   "source": [
    "## Summary Statistics\n",
    "Özet istatistikler, gözlenen değerlerin sınırlarına hızlı bir bakış sağlar. Ne ile çalıştığımız hakkında hızlı bir fikir edinmemize yardımcı olabilir. Aşağıdaki örnek, zaman serileri için özet istatistikleri hesaplar ve yazdırır."
   ]
  },
  {
   "cell_type": "code",
   "execution_count": 15,
   "metadata": {},
   "outputs": [
    {
     "name": "stdout",
     "output_type": "stream",
     "text": [
      "count    106.000000\n",
      "mean     173.103774\n",
      "std      112.231133\n",
      "min       29.000000\n",
      "25%       74.750000\n",
      "50%      144.500000\n",
      "75%      271.750000\n",
      "max      487.000000\n",
      "Name: 1, dtype: float64\n"
     ]
    }
   ],
   "source": [
    "# summary statistics of time series\n",
    "from pandas import read_csv\n",
    "series = read_csv('dataset.csv', header=None, index_col=0, parse_dates=True, squeeze=True) \n",
    "print(series.describe())"
   ]
  },
  {
   "cell_type": "markdown",
   "metadata": {},
   "source": [
    "## Line Plot\n"
   ]
  },
  {
   "cell_type": "code",
   "execution_count": 16,
   "metadata": {},
   "outputs": [
    {
     "data": {
      "text/plain": [
       "<matplotlib.axes._subplots.AxesSubplot at 0x1a1b86af50>"
      ]
     },
     "execution_count": 16,
     "metadata": {},
     "output_type": "execute_result"
    },
    {
     "data": {
      "image/png": "[encoded data removed]",
      "text/plain": [
       "<Figure size 432x288 with 1 Axes>"
      ]
     },
     "metadata": {
      "needs_background": "light"
     },
     "output_type": "display_data"
    }
   ],
   "source": [
    "# line plots of time series\n",
    "from pandas import read_csv\n",
    "from matplotlib import pyplot\n",
    "series = read_csv('dataset.csv', header=None, index_col=0, parse_dates=True, squeeze=True) \n",
    "series.plot()"
   ]
  },
  {
   "cell_type": "markdown",
   "metadata": {},
   "source": [
    "Some observations from the plot include:\n",
    "* Soygunların zamanla artan bir eğilimi vardır.\n",
    "* Belirgin bir aykırı değer yok gibi görünüyor.\n",
    "* Yıldan yıla, yukarı ve aşağı nispeten büyük dalgalanmalar vardır\n",
    "* Daha sonraki yıllardaki dalgalanmalar, önceki yıllardaki dalgalanmalardan daha büyük görünmektedir.\n",
    "* Trend, veri kümesinin neredeyse kesinlikle sabit olmadığı ve dalgalanmadaki belirgin değişikliklerin de katkıda bulunabileceği anlamına gelir."
   ]
  },
  {
   "cell_type": "markdown",
   "metadata": {},
   "source": [
    "Bu basit gözlemler, eğilimi modellemede ve zaman serisinden çıkarmada fayda görebileceğimizi düşündürmektedir. Alternatif olarak, seriyi modelleme için sabit hale getirmek için farklılaştırma kullanabiliriz. İlerleyen yıllarda dalgalanmalarda bir büyüme eğilimi varsa iki farklılaşma seviyesine bile ihtiyacımız olabilir."
   ]
  },
  {
   "cell_type": "markdown",
   "metadata": {},
   "source": [
    "## Density Plot\n",
    "Gözlem yoğunluğunun çizimlerinin gözden geçirilmesi, verilerin yapısı hakkında daha fazla bilgi sağlayabilir. Aşağıdaki örnek, herhangi bir zamansal yapı olmaksızın gözlemlerin bir histogramını ve yoğunluk grafiğini oluşturmaktadır."
   ]
  },
  {
   "cell_type": "code",
   "execution_count": 18,
   "metadata": {},
   "outputs": [
    {
     "data": {
      "image/png": "[encoded data removed]",
      "text/plain": [
       "<Figure size 432x288 with 2 Axes>"
      ]
     },
     "metadata": {
      "needs_background": "light"
     },
     "output_type": "display_data"
    }
   ],
   "source": [
    "# density plots of time series\n",
    "from pandas import read_csv\n",
    "from matplotlib import pyplot\n",
    "series = read_csv('dataset.csv', header=None, index_col=0, parse_dates=True, squeeze=True) \n",
    "pyplot.figure(1)\n",
    "pyplot.subplot(211)\n",
    "series.hist()\n",
    "pyplot.subplot(212)\n",
    "series.plot(kind='kde')\n",
    "pyplot.show()"
   ]
  },
  {
   "cell_type": "markdown",
   "metadata": {},
   "source": [
    "Some observations from the plots include:\n",
    "* The distribution is not Gaussian.\n",
    "* The distribution is left shifted and may be exponential or a double Gaussian.\n",
    "* Modellemeden önce verilerin bazı güç dönüşümlerini keşfetmede bazı faydalar görebiliriz.    "
   ]
  },
  {
   "cell_type": "markdown",
   "metadata": {},
   "source": [
    "## Box and Whisker Plots\n",
    "Aylık verileri yıllara göre gruplandırabilir ve her yıl için gözlemlerin yayılması ve bunun nasıl değişebileceği hakkında fikir edinebiliriz. Biraz eğilim görmeyi bekliyoruz (artan ortalama veya medyan), ancak dağılımın geri kalanının nasıl değiştiğini görmek ilginç olabilir. Aşağıdaki örnek, gözlemleri yıla göre gruplandırır ve her gözlem yılı için bir kutu ve bıyık grafiği oluşturur. Geçen yıl (1974) sadece 10 ay içerir ve diğer yıllardaki diğer 12 aylık gözlemlerle yararlı bir karşılaştırma olmayabilir. Bu nedenle, sadece 1966 ile 1973 arasındaki veriler çizildi."
   ]
  },
  {
   "cell_type": "code",
   "execution_count": 22,
   "metadata": {},
   "outputs": [
    {
     "name": "stdout",
     "output_type": "stream",
     "text": [
      "0\n",
      "1966-01-01     41\n",
      "1966-02-01     39\n",
      "1966-03-01     50\n",
      "1966-04-01     40\n",
      "1966-05-01     43\n",
      "             ... \n",
      "1974-06-01    287\n",
      "1974-07-01    355\n",
      "1974-08-01    460\n",
      "1974-09-01    364\n",
      "1974-10-01    487\n",
      "Name: 1, Length: 106, dtype: int64\n"
     ]
    },
    {
     "data": {
      "image/png": "[encoded data removed]",
      "text/plain": [
       "<Figure size 432x288 with 1 Axes>"
      ]
     },
     "metadata": {
      "needs_background": "light"
     },
     "output_type": "display_data"
    },
    {
     "data": {
      "image/png": "[encoded data removed]",
      "text/plain": [
       "<Figure size 432x288 with 1 Axes>"
      ]
     },
     "metadata": {
      "needs_background": "light"
     },
     "output_type": "display_data"
    },
    {
     "data": {
      "image/png": "[encoded data removed]",
      "text/plain": [
       "<Figure size 432x288 with 1 Axes>"
      ]
     },
     "metadata": {
      "needs_background": "light"
     },
     "output_type": "display_data"
    },
    {
     "data": {
      "image/png": "[encoded data removed]",
      "text/plain": [
       "<Figure size 432x288 with 1 Axes>"
      ]
     },
     "metadata": {
      "needs_background": "light"
     },
     "output_type": "display_data"
    },
    {
     "data": {
      "image/png": "[encoded data removed]",
      "text/plain": [
       "<Figure size 432x288 with 1 Axes>"
      ]
     },
     "metadata": {
      "needs_background": "light"
     },
     "output_type": "display_data"
    },
    {
     "data": {
      "image/png": "[encoded data removed]",
      "text/plain": [
       "<Figure size 432x288 with 1 Axes>"
      ]
     },
     "metadata": {
      "needs_background": "light"
     },
     "output_type": "display_data"
    },
    {
     "data": {
      "image/png": "[encoded data removed]",
      "text/plain": [
       "<Figure size 432x288 with 1 Axes>"
      ]
     },
     "metadata": {
      "needs_background": "light"
     },
     "output_type": "display_data"
    },
    {
     "data": {
      "image/png": "[encoded data removed]",
      "text/plain": [
       "<Figure size 432x288 with 1 Axes>"
      ]
     },
     "metadata": {
      "needs_background": "light"
     },
     "output_type": "display_data"
    }
   ],
   "source": [
    "# boxplots of time series\n",
    "from pandas import read_csv\n",
    "from pandas import DataFrame\n",
    "from pandas import Grouper\n",
    "from matplotlib import pyplot\n",
    "series = read_csv('dataset.csv', header=None, index_col=0, parse_dates=True, squeeze=True) \n",
    "print(series)\n",
    "groups = series['1966':'1973'].groupby(Grouper(freq='A')) \n",
    "years = DataFrame()\n",
    "for name, group in groups:\n",
    "    years[name.year] = group.values\n",
    "    years.boxplot()\n",
    "    pyplot.show()"
   ]
  },
  {
   "cell_type": "markdown",
   "metadata": {},
   "source": [
    "Daha önceki yıllar, belki de ilk 2, veri kümesinin geri kalanından oldukça farklıdır. bu yüzden bu iki yılı çıkartmak mantıklı olabilir"
   ]
  },
  {
   "cell_type": "markdown",
   "metadata": {},
   "source": [
    "## ARIMA Models\n",
    "\n",
    "Bu bölümde, sorun için Otoregresif Entegre Hareketli Ortalama veya ARIMA modelleri geliştireceğiz. Buna dört adımda yaklaşacağız:\n",
    "1. Elle yapılandırılmış bir ARIMA modeli geliştirme.\n",
    "2. Optimize edilmiş bir model bulmak için ARIMA'nın Grid Search kullanma\n",
    "3. Modeldeki herhangi bir yanlılığı değerlendirmek için tahmini kalan hataların analizi\n",
    "4. Güç dönüşümlerini kullanarak modeldeki geliştirmeleri keşfedin."
   ]
  },
  {
   "cell_type": "markdown",
   "metadata": {},
   "source": [
    "## Manually Configured ARIMA\n",
    "Mevsimsel olmayan ARIMA (p, d, q) üç parametre gerektirir ve geleneksel olarak manuel olarak yapılandırılır. Zaman serisi verilerinin analizi, sabit bir zaman serisi ile çalıştığımızı varsayar. Zaman serileri neredeyse hiç durağan değil. İlk önce serileri farklılaştırarak ve sonucun sabit olduğunu doğrulamak için istatistiksel bir test kullanarak durağan hale getirebiliriz. Aşağıdaki örnek, serinin sabit bir sürümünü oluşturur ve bunu stationary.csv dosyasına kaydederiz."
   ]
  },
  {
   "cell_type": "code",
   "execution_count": 24,
   "metadata": {},
   "outputs": [
    {
     "name": "stdout",
     "output_type": "stream",
     "text": [
      "ADF Statistic: -3.980946\n",
      "p-value: 0.001514\n",
      "Critical Values:\n",
      "\t1%: -3.503\n",
      "\t5%: -2.893\n",
      "\t10%: -2.584\n"
     ]
    }
   ],
   "source": [
    "# statistical test for the stationarity of the time series\n",
    "from pandas import read_csv\n",
    "from pandas import Series\n",
    "from statsmodels.tsa.stattools import adfuller\n",
    "# create a differenced time series\n",
    "def difference(dataset):\n",
    "    diff = list()\n",
    "    for i in range(1, len(dataset)):\n",
    "        value = dataset[i] - dataset[i - 1]\n",
    "        diff.append(value)\n",
    "    return Series(diff)\n",
    "series = read_csv('dataset.csv', header=None, index_col=0, parse_dates=True, squeeze=True) \n",
    "X = series.values\n",
    "# difference data\n",
    "stationary = difference(X)\n",
    "stationary.index = series.index[1:]\n",
    "# check if stationary\n",
    "result = adfuller(stationary) \n",
    "print('ADF Statistic: %f' % result[0]) \n",
    "print('p-value: %f' % result[1]) \n",
    "print('Critical Values:')\n",
    "for key, value in result[4].items():\n",
    "    print('\\t%s: %.3f' % (key, value))\n",
    "# save\n",
    "stationary.to_csv('stationary.csv', header=False)"
   ]
  },
  {
   "cell_type": "code",
   "execution_count": 25,
   "metadata": {},
   "outputs": [
    {
     "data": {
      "text/plain": [
       "<matplotlib.axes._subplots.AxesSubplot at 0x1a1cadf0d0>"
      ]
     },
     "execution_count": 25,
     "metadata": {},
     "output_type": "execute_result"
    },
    {
     "data": {
      "image/png": "[encoded data removed]",
      "text/plain": [
       "<Figure size 432x288 with 1 Axes>"
      ]
     },
     "metadata": {
      "needs_background": "light"
     },
     "output_type": "display_data"
    }
   ],
   "source": [
    "stationary.plot()"
   ]
  },
  {
   "cell_type": "markdown",
   "metadata": {},
   "source": [
    "Sıfır hipotezinin reddedilmesi, işlemin birim kökü olmadığı ve buna karşılık 1 gecikmeli farklı zaman serilerinin sabit veya zamana bağlı bir yapıya sahip olmadığı anlamına gelir.\n"
   ]
  },
  {
   "cell_type": "markdown",
   "metadata": {},
   "source": [
    "Bu, en az bir fark seviyesinin gerekli olduğunu göstermektedir. ARIMA modelimizdeki d parametresi en az 1 değeri olmalıdır. Bir sonraki adım sırasıyla OtoRegresyon (AR) ve Hareketli Ortalama (MA) parametreleri, p ve q için gecikme değerlerini seçmektir. Bunu, Otokorelasyon Fonksiyonu (ACF) ve Kısmi Otokorelasyon Fonksiyonu (PACF) grafiklerini inceleyerek yapabiliriz. Aşağıdaki örnek, seri için ACF ve PACF grafikleri oluşturur."
   ]
  },
  {
   "cell_type": "code",
   "execution_count": 27,
   "metadata": {},
   "outputs": [
    {
     "data": {
      "image/png": "[encoded data removed]",
      "text/plain": [
       "<Figure size 432x288 with 2 Axes>"
      ]
     },
     "metadata": {
      "needs_background": "light"
     },
     "output_type": "display_data"
    }
   ],
   "source": [
    "# ACF and PACF plots of time series\n",
    "from pandas import read_csv\n",
    "from statsmodels.graphics.tsaplots import plot_acf\n",
    "from statsmodels.graphics.tsaplots import plot_pacf\n",
    "from matplotlib import pyplot\n",
    "series = read_csv('dataset.csv', header=None, index_col=0, parse_dates=True, squeeze=True) \n",
    "pyplot.figure()\n",
    "pyplot.subplot(211)\n",
    "plot_acf(series, lags=50, ax=pyplot.gca())\n",
    "pyplot.subplot(212)\n",
    "plot_pacf(series, lags=50, ax=pyplot.gca())\n",
    "pyplot.show()"
   ]
  },
  {
   "cell_type": "markdown",
   "metadata": {},
   "source": [
    "Örneği çalıştırın ve ARIMA modeli için p ve q değişkenlerinin nasıl ayarlanacağına dair bilgiler için grafikleri inceleyin."
   ]
  },
  {
   "cell_type": "markdown",
   "metadata": {},
   "source": [
    "Some observations from the plots:\n",
    "* ACF 10-11 ay boyunca önemli bir gecikme gösterir.\n",
    "* PACF, belki de 2 ay boyunca önemli bir gecikme gösterir.\n",
    "* Hem ACF hem de PACF aynı noktada bir düşüş gösterir, belki de AR ve MA'nın bir karışımını gösterir.\n",
    "* P ve q değerleri için iyi bir başlangıç ​​noktası 11 ve 2'dir"
   ]
  },
  {
   "cell_type": "markdown",
   "metadata": {},
   "source": [
    "Bu hızlı analiz, ham veriler üzerindeki bir ARIMA'nın (11,1,2) iyi bir başlangıç ​​noktası olabileceğini düşündürmektedir. Deneyler, ARIMA'nın bu yapılandırmasının, benzer büyük AR değerlerinde olduğu gibi, temel kütüphane tarafından yakınsamadığını ve hatalarla sonuçlandığını göstermektedir. Bazı deneyler, modelin aynı anda tanımlanmayan sıfır olmayan AR ve MA siparişleri ile kararlı görünmediğini göstermektedir. Model ARIMA (0,1,2) ile basitleştirilebilir. Aşağıdaki örnek, bu ARIMA modelinin test kemeri üzerindeki performansını gösterir."
   ]
  },
  {
   "cell_type": "code",
   "execution_count": 30,
   "metadata": {},
   "outputs": [
    {
     "name": "stdout",
     "output_type": "stream",
     "text": [
      ">Predicted=102.710, Expected=125.000\n",
      ">Predicted=118.868, Expected=155.000\n",
      ">Predicted=141.099, Expected=190.000\n",
      ">Predicted=176.593, Expected=236.000\n",
      ">Predicted=233.418, Expected=189.000\n",
      ">Predicted=186.905, Expected=174.000\n",
      ">Predicted=184.846, Expected=178.000\n",
      ">Predicted=183.763, Expected=136.000\n",
      ">Predicted=146.180, Expected=161.000\n",
      ">Predicted=171.279, Expected=171.000\n",
      ">Predicted=170.196, Expected=149.000\n",
      ">Predicted=154.425, Expected=184.000\n",
      ">Predicted=185.707, Expected=155.000\n",
      ">Predicted=157.284, Expected=276.000\n",
      ">Predicted=245.280, Expected=224.000\n",
      ">Predicted=222.242, Expected=213.000\n",
      ">Predicted=219.698, Expected=279.000\n",
      ">Predicted=261.506, Expected=268.000\n",
      ">Predicted=264.287, Expected=287.000\n",
      ">Predicted=282.759, Expected=238.000\n",
      ">Predicted=255.843, Expected=213.000\n",
      ">Predicted=235.189, Expected=257.000\n",
      ">Predicted=257.622, Expected=293.000\n",
      ">Predicted=280.345, Expected=212.000\n",
      ">Predicted=235.564, Expected=246.000\n",
      ">Predicted=255.342, Expected=353.000\n",
      ">Predicted=318.613, Expected=339.000\n",
      ">Predicted=310.335, Expected=308.000\n",
      ">Predicted=306.789, Expected=247.000\n",
      ">Predicted=270.213, Expected=257.000\n",
      ">Predicted=283.318, Expected=322.000\n",
      ">Predicted=316.063, Expected=298.000\n",
      ">Predicted=294.466, Expected=273.000\n",
      ">Predicted=289.635, Expected=312.000\n",
      ">Predicted=314.759, Expected=249.000\n",
      ">Predicted=268.675, Expected=286.000\n",
      ">Predicted=303.095, Expected=279.000\n",
      ">Predicted=286.441, Expected=309.000\n",
      ">Predicted=309.455, Expected=401.000\n",
      ">Predicted=363.141, Expected=309.000\n",
      ">Predicted=304.979, Expected=328.000\n",
      ">Predicted=336.240, Expected=353.000\n",
      ">Predicted=342.814, Expected=354.000\n",
      ">Predicted=347.675, Expected=327.000\n",
      ">Predicted=335.842, Expected=324.000\n",
      ">Predicted=338.449, Expected=285.000\n",
      ">Predicted=314.714, Expected=243.000\n",
      ">Predicted=290.336, Expected=241.000\n",
      ">Predicted=280.614, Expected=287.000\n",
      ">Predicted=302.079, Expected=355.000\n",
      ">Predicted=340.210, Expected=460.000\n",
      ">Predicted=405.172, Expected=364.000\n",
      ">Predicted=333.755, Expected=487.000\n",
      "RMSE: 49.821\n"
     ]
    }
   ],
   "source": [
    "# evaluate manually configured ARIMA model\n",
    "from pandas import read_csv\n",
    "from sklearn.metrics import mean_squared_error\n",
    "from statsmodels.tsa.arima_model import ARIMA\n",
    "from math import sqrt\n",
    "# load data\n",
    "series = read_csv('dataset.csv', header=None, index_col=0, parse_dates=True, squeeze=True)\n",
    "# prepare data\n",
    "X = series.values\n",
    "X = X.astype('float32')\n",
    "train_size = int(len(X) * 0.50)\n",
    "train, test = X[0:train_size], X[train_size:]\n",
    "# walk-forward validation\n",
    "history = [x for x in train]\n",
    "predictions = list()\n",
    "for i in range(len(test)):\n",
    "    # predict\n",
    "    model = ARIMA(history, order=(0,1,2))\n",
    "    model_fit = model.fit(disp=0)\n",
    "    yhat = model_fit.forecast()[0]\n",
    "    predictions.append(yhat)\n",
    "    # observation\n",
    "    obs = test[i]\n",
    "    history.append(obs)\n",
    "    print('>Predicted=%.3f, Expected=%.3f' % (yhat, obs))\n",
    "# report performance\n",
    "rmse = sqrt(mean_squared_error(test, predictions)) \n",
    "print('RMSE: %.3f' % rmse)\n"
   ]
  },
  {
   "cell_type": "markdown",
   "metadata": {},
   "source": [
    "## Grid Search ARIMA Hyperparameters\n",
    "Birçok ARIMA yapılandırması bu veri kümesinde kararsızdır, ancak iyi performans gösteren bir modelle sonuçlanan başka hiper parametreler olabilir. Bu bölümde, hata ile sonuçlanmayan kombinasyonlar için p, d ve q değerlerini arayacağız ve en iyi performansla sonuçlanan kombinasyonu bulacağız. Tamsayı değerlerin bir alt kümesindeki tüm kombinasyonları keşfetmek için bir ızgara araması kullanacağız. Özellikle, aşağıdaki parametrelerin tüm kombinasyonlarını arayacağız:\n",
    "* p: 0to12\n",
    "* d: 0 to 3\n",
    "* q: 0to12"
   ]
  },
  {
   "cell_type": "code",
   "execution_count": 1,
   "metadata": {},
   "outputs": [],
   "source": [
    "# grid search ARIMA parameters for time series\n",
    "import warnings\n",
    "from pandas import read_csv\n",
    "from statsmodels.tsa.arima_model import ARIMA\n",
    "from sklearn.metrics import mean_squared_error\n",
    "from math import sqrt"
   ]
  },
  {
   "cell_type": "code",
   "execution_count": 2,
   "metadata": {},
   "outputs": [],
   "source": [
    "# evaluate an ARIMA model for a given order (p,d,q) and return RMSE\n",
    "def evaluate_arima_model(X, arima_order): # prepare training dataset\n",
    "    X = X.astype('float32')\n",
    "    train_size = int(len(X) * 0.50)\n",
    "    train, test = X[0:train_size], X[train_size:]\n",
    "    history = [x for x in train]\n",
    "    # make predictions\n",
    "    predictions = list()\n",
    "    for t in range(len(test)):\n",
    "        model = ARIMA(history, order=arima_order)\n",
    "        model_fit = model.fit(disp=0)\n",
    "        yhat = model_fit.forecast()[0]\n",
    "        predictions.append(yhat)\n",
    "        history.append(test[t])\n",
    "    # calculate out of sample error\n",
    "    rmse = sqrt(mean_squared_error(test, predictions))\n",
    "    return rmse"
   ]
  },
  {
   "cell_type": "code",
   "execution_count": null,
   "metadata": {},
   "outputs": [],
   "source": [
    "# evaluate combinations of p, d and q values for an ARIMA model\n",
    "def evaluate_models(dataset, p_values, d_values, q_values): \n",
    "    dataset = dataset.astype('float32')\n",
    "    best_score, best_cfg = float(\"inf\"), None\n",
    "    for p in p_values:\n",
    "        for d in d_values:\n",
    "            for q in q_values:\n",
    "                order = (p,d,q)\n",
    "                try:\n",
    "                    rmse = evaluate_arima_model(dataset, order)\n",
    "                    if rmse < best_score:\n",
    "                        best_score, best_cfg = rmse, order \n",
    "                    print('ARIMA%s RMSE=%.3f' % (order,rmse))\n",
    "                except:\n",
    "                    continue\n",
    "    print('Best ARIMA%s RMSE=%.3f' % (best_cfg, best_score))\n",
    "# load dataset\n",
    "series = read_csv('dataset.csv', header=None, index_col=0, parse_dates=True, squeeze=True)\n",
    "# evaluate parameters\n",
    "p_values = range(0,13)\n",
    "d_values = range(0, 4)\n",
    "q_values = range(0, 13)\n",
    "warnings.filterwarnings(\"ignore\")\n",
    "evaluate_models(series.values, p_values, d_values, q_values)"
   ]
  },
  {
   "cell_type": "markdown",
   "metadata": {},
   "source": [
    "## Review Residual Errors\n",
    "Bir modelin iyi bir son kontrolü, kalan tahmin hatalarını gözden geçirmektir. İdeal olarak, artık hataların dağılımı sıfır ortalamaya sahip bir Gauss olmalıdır. Kalıntıları bir histogram ve yoğunluk grafikleri ile çizerek bunu kontrol edebiliriz. Aşağıdaki örnek, test setindeki tahminler için kalan hataları hesaplar ve bu yoğunluk grafiklerini oluşturur."
   ]
  },
  {
   "cell_type": "code",
   "execution_count": 4,
   "metadata": {},
   "outputs": [
    {
     "data": {
      "image/png": "[encoded data removed]",
      "text/plain": [
       "<Figure size 432x288 with 2 Axes>"
      ]
     },
     "metadata": {
      "needs_background": "light"
     },
     "output_type": "display_data"
    }
   ],
   "source": [
    "# plot residual errors for ARIMA model\n",
    "from pandas import read_csv\n",
    "from pandas import DataFrame\n",
    "from statsmodels.tsa.arima_model import ARIMA\n",
    "from matplotlib import pyplot\n",
    "# load data\n",
    "series = read_csv('dataset.csv', header=None, index_col=0, parse_dates=True, squeeze=True)\n",
    "# prepare data\n",
    "X = series.values\n",
    "X = X.astype('float32')\n",
    "train_size = int(len(X) * 0.50)\n",
    "train, test = X[0:train_size], X[train_size:]\n",
    "# walk-forward validation\n",
    "history = [x for x in train]\n",
    "predictions = list()\n",
    "for i in range(len(test)):\n",
    "    # predict\n",
    "    model = ARIMA(history, order=(0,1,2))\n",
    "    model_fit = model.fit(disp=0)\n",
    "    yhat = model_fit.forecast()[0]\n",
    "    predictions.append(yhat)\n",
    "  # observation\n",
    "    obs = test[i]\n",
    "    history.append(obs)\n",
    "# errors\n",
    "residuals = [test[i]-predictions[i] for i in range(len(test))]\n",
    "residuals = DataFrame(residuals)\n",
    "pyplot.figure()\n",
    "pyplot.subplot(211)\n",
    "residuals.hist(ax=pyplot.gca()) \n",
    "pyplot.subplot(212) \n",
    "residuals.plot(kind='kde', ax=pyplot.gca()) \n",
    "pyplot.show()"
   ]
  },
  {
   "cell_type": "markdown",
   "metadata": {},
   "source": [
    "Örneği çalıştırmak iki grafiği oluşturur. Grafikler, daha uzun sağ kuyruğu olan Gauss benzeri bir dağılım göstermektedir. Bu belki de tahminlerin önyargılı olduğunun ve bu durumda belki de modellemeden önce ham verilerin güç temelli dönüşümünün faydalı olabileceğinin bir işaretidir."
   ]
  },
  {
   "cell_type": "markdown",
   "metadata": {},
   "source": [
    "Her türlü otokorelasyon için kalan hataların zaman serilerini kontrol etmek de iyi bir fikirdir. Varsa, modelin verilerdeki zamansal yapıyı modellemek için daha fazla fırsata sahip olduğunu önerecektir. Aşağıdaki örnek, kalan hataları yeniden hesaplar ve herhangi bir önemli otokorelasyonu kontrol etmek için ACF ve PACF grafikleri oluşturur."
   ]
  },
  {
   "cell_type": "code",
   "execution_count": 5,
   "metadata": {},
   "outputs": [
    {
     "data": {
      "image/png": "[encoded data removed]",
      "text/plain": [
       "<Figure size 432x288 with 2 Axes>"
      ]
     },
     "metadata": {
      "needs_background": "light"
     },
     "output_type": "display_data"
    }
   ],
   "source": [
    "# ACF and PACF plots of forecast residual errors\n",
    "from pandas import read_csv\n",
    "from pandas import DataFrame\n",
    "from statsmodels.tsa.arima_model import ARIMA\n",
    "from statsmodels.graphics.tsaplots import plot_acf\n",
    "from statsmodels.graphics.tsaplots import plot_pacf\n",
    "from matplotlib import pyplot\n",
    "# load data\n",
    "series = read_csv('dataset.csv', header=None, index_col=0, parse_dates=True, squeeze=True)\n",
    "# prepare data\n",
    "X = series.values\n",
    "X = X.astype('float32')\n",
    "train_size = int(len(X) * 0.50)\n",
    "train, test = X[0:train_size], X[train_size:]\n",
    "# walk-forward validation\n",
    "history = [x for x in train]\n",
    "predictions = list()\n",
    "for i in range(len(test)):\n",
    "    model = ARIMA(history, order=(0,1,2))\n",
    "    model_fit = model.fit(disp=0)\n",
    "    yhat = model_fit.forecast()[0]\n",
    "    predictions.append(yhat)\n",
    "  # observation\n",
    "    obs = test[i]\n",
    "    history.append(obs)\n",
    "# errors\n",
    "residuals = [test[i]-predictions[i] for i in range(len(test))]\n",
    "residuals = DataFrame(residuals)\n",
    "pyplot.figure()\n",
    "pyplot.subplot(211)\n",
    "plot_acf(residuals, lags=25, ax=pyplot.gca())\n",
    "pyplot.subplot(212)\n",
    "plot_pacf(residuals, lags=25, ax=pyplot.gca())\n",
    "pyplot.show()"
   ]
  },
  {
   "cell_type": "markdown",
   "metadata": {},
   "source": [
    "Sonuçlar, zaman serisinde ne kadar az otokorelasyonun model tarafından yakalandığını göstermektedir."
   ]
  },
  {
   "cell_type": "markdown",
   "metadata": {},
   "source": [
    "## Box-Cox Transformed Dataset\n",
    "Box-Cox dönüşümü, bunlarla sınırlı olmamakla birlikte, verilerin günlük, karekök ve karşılıklı dönüşümlerini içeren bir dizi güç dönüşümü değerlendirebilen bir yöntemdir. Aşağıdaki örnek, verilerin bir günlük dönüşümünü gerçekleştirir ve zaman serileri üzerindeki etkiyi gözden geçirmek için bazı grafikler oluşturur."
   ]
  },
  {
   "cell_type": "code",
   "execution_count": 2,
   "metadata": {},
   "outputs": [
    {
     "name": "stdout",
     "output_type": "stream",
     "text": [
      "Lambda: 0.260060\n"
     ]
    },
    {
     "data": {
      "image/png": "[encoded data removed]",
      "text/plain": [
       "<Figure size 432x288 with 3 Axes>"
      ]
     },
     "metadata": {
      "needs_background": "light"
     },
     "output_type": "display_data"
    }
   ],
   "source": [
    "# plots of box-cox transformed dataset\n",
    "from pandas import read_csv\n",
    "from scipy.stats import boxcox\n",
    "from matplotlib import pyplot\n",
    "from statsmodels.graphics.gofplots import qqplot\n",
    "series = read_csv('dataset.csv', header=None, index_col=0, parse_dates=True, squeeze=True) \n",
    "X = series.values\n",
    "transformed, lam = boxcox(X)\n",
    "print('Lambda: %f' % lam)\n",
    "pyplot.figure(1)\n",
    "# line plot\n",
    "pyplot.subplot(311)\n",
    "pyplot.plot(transformed)\n",
    "# histogram\n",
    "pyplot.subplot(312)\n",
    "pyplot.hist(transformed)\n",
    "# q-q plot\n",
    "pyplot.subplot(313)\n",
    "qqplot(transformed, line='r', ax=pyplot.gca()) \n",
    "pyplot.show()"
   ]
  },
  {
   "cell_type": "markdown",
   "metadata": {},
   "source": [
    "* Bu grafiklerden bazı gözlemler aşağıdadır:\n",
    "* The large fluctuations have been removed from the line plot of the time series.\n",
    "􏰀* The histogram shows a flatter or more uniform (well behaved) distribution of values. 􏰀 \n",
    "* The Q-Q plot is reasonable, but still not a perfect fit for a Gaussian distribution."
   ]
  },
  {
   "cell_type": "markdown",
   "metadata": {},
   "source": [
    "Kuşkusuz, Box-Cox dönüşümü zaman serilerine bir şeyler yaptı ve faydalı olabilir. ARIMA modelini dönüştürülmüş verilerle test etmeye devam etmeden önce, dönüştürülmüş veriler üzerinde eğitilmiş bir modelle yapılan tahminleri orijinal ölçeğe dönüştürmek için dönüşümü tersine çevirmenin bir yolunu bulmalıyız. Örnekte kullanılan boxcox () işlevi, bir maliyet işlevini optimize ederek ideal bir lambda değeri bulur. Lambda aşağıdakilerde kullanılır"
   ]
  },
  {
   "cell_type": "code",
   "execution_count": 3,
   "metadata": {},
   "outputs": [],
   "source": [
    "# invert Box-Cox transform\n",
    "from math import log\n",
    "from math import exp\n",
    "def boxcox_inverse(value, lam):\n",
    "    if lam == 0:\n",
    "        return exp(value)\n",
    "    return exp(log(lam * value + 1) / lam)"
   ]
  },
  {
   "cell_type": "markdown",
   "metadata": {},
   "source": [
    "ARIMA (0,1,2) modelini Box-Cox dönüşümü ile yeniden değerlendirebiliriz. Bu, önce ARIMA modelini takmadan önce tarihin dönüştürülmesini, daha sonra beklenen değerlerle daha sonra karşılaştırılmak üzere saklanmadan önce dönüşümü tahmin üzerine ters çevirmeyi içerir. Boxcox () işlevi başarısız olabilir. Pratikte, bunu gördüm ve -5'ten daha düşük bir döndürülen lambda değeri ile işaret edildiği görülüyor. Geleneksel olarak lambda değerleri -5 ile 5 arasında değerlendirilir."
   ]
  },
  {
   "cell_type": "markdown",
   "metadata": {},
   "source": [
    "-5'ten düşük bir lambda değeri için bir kontrol eklenir ve bu durumda 1 değerinde bir lambda değeri varsayılır ve modele uyması için ham geçmiş kullanılır. 1 lambda değeri, dönüşüm yok ile aynıdır ve bu nedenle ters dönüşümün bir etkisi yoktur. Tüm örnek aşağıda listelenmiştir."
   ]
  },
  {
   "cell_type": "code",
   "execution_count": 6,
   "metadata": {},
   "outputs": [
    {
     "name": "stdout",
     "output_type": "stream",
     "text": [
      ">Predicted=104.062, Expected=125.000\n",
      ">Predicted=119.209, Expected=155.000\n",
      ">Predicted=138.905, Expected=190.000\n",
      ">Predicted=166.139, Expected=236.000\n",
      ">Predicted=205.906, Expected=189.000\n",
      ">Predicted=183.612, Expected=174.000\n",
      ">Predicted=184.410, Expected=178.000\n",
      ">Predicted=186.637, Expected=136.000\n",
      ">Predicted=154.261, Expected=161.000\n",
      ">Predicted=175.660, Expected=171.000\n",
      ">Predicted=174.170, Expected=149.000\n",
      ">Predicted=159.916, Expected=184.000\n",
      ">Predicted=187.302, Expected=155.000\n",
      ">Predicted=161.653, Expected=276.000\n"
     ]
    },
    {
     "name": "stderr",
     "output_type": "stream",
     "text": [
      "/opt/anaconda3/lib/python3.7/site-packages/numpy/core/_methods.py:195: RuntimeWarning: overflow encountered in multiply\n",
      "  x = um.multiply(x, x, out=x)\n",
      "/opt/anaconda3/lib/python3.7/site-packages/numpy/core/_methods.py:199: RuntimeWarning: overflow encountered in reduce\n",
      "  ret = umr_sum(x, axis, dtype, out, keepdims)\n"
     ]
    },
    {
     "name": "stdout",
     "output_type": "stream",
     "text": [
      ">Predicted=244.354, Expected=224.000\n",
      ">Predicted=212.416, Expected=213.000\n",
      ">Predicted=221.180, Expected=279.000\n",
      ">Predicted=262.629, Expected=268.000\n",
      ">Predicted=260.125, Expected=287.000\n",
      ">Predicted=283.321, Expected=238.000\n",
      ">Predicted=255.089, Expected=213.000\n",
      ">Predicted=241.698, Expected=257.000\n",
      ">Predicted=267.302, Expected=293.000\n",
      ">Predicted=286.367, Expected=212.000\n",
      ">Predicted=237.879, Expected=246.000\n",
      ">Predicted=265.181, Expected=353.000\n",
      ">Predicted=323.319, Expected=339.000\n",
      ">Predicted=318.585, Expected=308.000\n",
      ">Predicted=315.823, Expected=247.000\n",
      ">Predicted=279.552, Expected=257.000\n",
      ">Predicted=289.121, Expected=322.000\n",
      ">Predicted=323.735, Expected=298.000\n",
      ">Predicted=305.189, Expected=273.000\n",
      ">Predicted=297.090, Expected=312.000\n",
      ">Predicted=322.523, Expected=249.000\n",
      ">Predicted=275.872, Expected=286.000\n",
      ">Predicted=307.548, Expected=279.000\n",
      ">Predicted=291.949, Expected=309.000\n",
      ">Predicted=315.578, Expected=401.000\n",
      ">Predicted=369.483, Expected=309.000\n",
      ">Predicted=316.868, Expected=328.000\n",
      ">Predicted=345.384, Expected=353.000\n",
      ">Predicted=353.504, Expected=354.000\n",
      ">Predicted=358.419, Expected=327.000\n",
      ">Predicted=345.135, Expected=324.000\n",
      ">Predicted=346.405, Expected=285.000\n",
      ">Predicted=318.015, Expected=243.000\n",
      ">Predicted=286.562, Expected=241.000\n",
      ">Predicted=276.252, Expected=287.000\n",
      ">Predicted=299.811, Expected=355.000\n",
      ">Predicted=338.997, Expected=460.000\n",
      ">Predicted=404.507, Expected=364.000\n",
      ">Predicted=349.335, Expected=487.000\n",
      "RMSE: 49.103\n"
     ]
    }
   ],
   "source": [
    "# evaluate ARIMA models with box-cox transformed time series\n",
    "from pandas import read_csv\n",
    "from sklearn.metrics import mean_squared_error\n",
    "from statsmodels.tsa.arima_model import ARIMA\n",
    "from math import sqrt\n",
    "from math import log\n",
    "from math import exp\n",
    "from scipy.stats import boxcox\n",
    "# invert box-cox transform\n",
    "def boxcox_inverse(value, lam):\n",
    "    if lam == 0:\n",
    "        return exp(value)\n",
    "    return exp(log(lam * value + 1) / lam)\n",
    "# load data\n",
    "series = read_csv('dataset.csv', header=None, index_col=0, parse_dates=True, squeeze=True)\n",
    "# prepare data\n",
    "X = series.values\n",
    "X = X.astype('float32')\n",
    "train_size = int(len(X) * 0.50)\n",
    "train, test = X[0:train_size], X[train_size:]\n",
    "# walk-forward validation\n",
    "history = [x for x in train]\n",
    "predictions = list()\n",
    "for i in range(len(test)):\n",
    "    # transform\n",
    "    transformed, lam = boxcox(history)\n",
    "    if lam < -5:\n",
    "        transformed, lam = history, 1\n",
    "    # predict\n",
    "    model = ARIMA(transformed, order=(0,1,2))\n",
    "    model_fit = model.fit(disp=0)\n",
    "    yhat = model_fit.forecast()[0]\n",
    "    # invert transformed prediction\n",
    "    yhat = boxcox_inverse(yhat, lam) \n",
    "    predictions.append(yhat)\n",
    "    # observation\n",
    "    obs = test[i]\n",
    "    history.append(obs)\n",
    "    print('>Predicted=%.3f, Expected=%.3f' % (yhat, obs))\n",
    "# report performance\n",
    "rmse = sqrt(mean_squared_error(test, predictions)) \n",
    "print('RMSE: %.3f' % rmse)\n"
   ]
  },
  {
   "cell_type": "markdown",
   "metadata": {},
   "source": [
    "## Model Validation\n",
    "Modeller geliştirildikten ve bir son model seçildikten sonra, onaylanmalı ve sonlandırılmalıdır. Doğrulama, sürecin isteğe bağlı bir parçasıdır, ancak kendimize kandırılmadığımızı veya yalan söylemediğimizden emin olmak için son bir kontrol sağlayan bir bölümdür. Bu bölüm aşağıdaki adımları içerir:\n",
    "* Finalize Model: Train and save the final model.\n",
    "* Make Prediction: Load the finalized model and make a prediction.\n",
    "* Validate Model: Load and validate the final model."
   ]
  },
  {
   "cell_type": "markdown",
   "metadata": {},
   "source": [
    "## Finalize Model\n",
    "Modelin sonlandırılması, bir ARIMA modelinin tüm veri kümesine, bu durumda tüm veri kümesinin dönüştürülmüş bir sürümüne yerleştirilmesini içerir. Uygun olduğunda, model daha sonra kullanılmak üzere dosyaya kaydedilebilir. Veriler üzerinde bir Box-Cox dönüşümü de gerçekleştirildiğinden, seçilen lambda'yı bilmemiz gerekir, böylece modelden gelen herhangi bir tahmin orijinal, dönüştürülmemiş ölçeğe geri dönüştürülebilir. Aşağıdaki örnek, Box-Cox dönüşüm veri kümesinde bir ARIMA (0,1,2) modeline uyar ve tüm uygun nesneyi ve lambda değerini dosyaya kaydeder."
   ]
  },
  {
   "cell_type": "code",
   "execution_count": 7,
   "metadata": {},
   "outputs": [
    {
     "name": "stderr",
     "output_type": "stream",
     "text": [
      "/opt/anaconda3/lib/python3.7/site-packages/numpy/core/_methods.py:195: RuntimeWarning: overflow encountered in multiply\n",
      "  x = um.multiply(x, x, out=x)\n"
     ]
    }
   ],
   "source": [
    "# finalize model and save to file with workaround\n",
    "from pandas import read_csv\n",
    "from statsmodels.tsa.arima_model import ARIMA\n",
    "from scipy.stats import boxcox\n",
    "import numpy\n",
    "# monkey patch around bug in ARIMA class\n",
    "def __getnewargs__(self):\n",
    "    return ((self.endog),(self.k_lags, self.k_diff, self.k_ma))\n",
    "ARIMA.__getnewargs__ = __getnewargs__\n",
    "# load data\n",
    "series = read_csv('dataset.csv', header=None, index_col=0, parse_dates=True, squeeze=True)\n",
    "# prepare data\n",
    "X = series.values\n",
    "X = X.astype('float32')\n",
    "# transform data\n",
    "transformed, lam = boxcox(X)\n",
    "# fit model\n",
    "model = ARIMA(transformed, order=(0,1,2)) \n",
    "model_fit = model.fit(disp=0)\n",
    "# save model\n",
    "model_fit.save('model.pkl') \n",
    "numpy.save('model_lambda.npy', [lam])"
   ]
  },
  {
   "cell_type": "markdown",
   "metadata": {},
   "source": [
    "## Make Prediction\n",
    "Doğal bir durum, modeli yüklemek ve tek bir tahmin yapmak olabilir. Bu nispeten basittir ve kaydedilen modelin ve lambda'nın geri yüklenmesini ve tahmini () işlevinin çağrılmasını içerir. Aşağıdaki örnek modeli yükler, bir sonraki zaman adımı için bir tahmin yapar, Box-Cox dönüşümünü tersine çevirir ve tahmini yazdırır."
   ]
  },
  {
   "cell_type": "code",
   "execution_count": 9,
   "metadata": {},
   "outputs": [
    {
     "name": "stdout",
     "output_type": "stream",
     "text": [
      "Predicted: 452.039\n"
     ]
    }
   ],
   "source": [
    "# load the finalized model and make a prediction\n",
    "from statsmodels.tsa.arima_model import ARIMAResults\n",
    "from math import exp\n",
    "from math import log\n",
    "import numpy\n",
    "# invert box-cox transform\n",
    "def boxcox_inverse(value, lam):\n",
    "    if lam == 0:\n",
    "        return exp(value)\n",
    "    return exp(log(lam * value + 1) / lam)\n",
    "model_fit = ARIMAResults.load('model.pkl') \n",
    "lam = numpy.load('model_lambda.npy')\n",
    "yhat = model_fit.forecast()[0]\n",
    "yhat = boxcox_inverse(yhat, lam) \n",
    "print('Predicted: %.3f' % yhat)\n"
   ]
  },
  {
   "cell_type": "markdown",
   "metadata": {},
   "source": [
    "## Modeli Doğrula\n"
   ]
  },
  {
   "cell_type": "code",
   "execution_count": 11,
   "metadata": {},
   "outputs": [
    {
     "name": "stdout",
     "output_type": "stream",
     "text": [
      ">Predicted=452.039, Expected=452.000\n",
      ">Predicted=423.097, Expected=391.000\n",
      ">Predicted=408.373, Expected=500.000\n",
      ">Predicted=482.451, Expected=451.000\n",
      ">Predicted=445.937, Expected=375.000\n",
      ">Predicted=413.894, Expected=372.000\n",
      ">Predicted=413.210, Expected=302.000\n",
      ">Predicted=355.157, Expected=316.000\n",
      ">Predicted=363.514, Expected=398.000\n",
      ">Predicted=406.362, Expected=394.000\n",
      ">Predicted=394.186, Expected=431.000\n",
      ">Predicted=428.175, Expected=431.000\n",
      "RMSE: 53.079\n"
     ]
    },
    {
     "data": {
      "image/png": "[encoded data removed]",
      "text/plain": [
       "<Figure size 432x288 with 1 Axes>"
      ]
     },
     "metadata": {
      "needs_background": "light"
     },
     "output_type": "display_data"
    }
   ],
   "source": [
    "# evaluate the finalized model on the validation dataset\n",
    "from pandas import read_csv\n",
    "from matplotlib import pyplot\n",
    "from statsmodels.tsa.arima_model import ARIMA\n",
    "from statsmodels.tsa.arima_model import ARIMAResults\n",
    "from scipy.stats import boxcox\n",
    "from sklearn.metrics import mean_squared_error\n",
    "from math import sqrt\n",
    "from math import exp\n",
    "from math import log\n",
    "import numpy\n",
    "# invert box-cox transform\n",
    "def boxcox_inverse(value, lam):\n",
    "    if lam == 0:\n",
    "        return exp(value)\n",
    "    return exp(log(lam * value + 1) / lam)\n",
    "# load and prepare datasets\n",
    "dataset = read_csv('dataset.csv', header=None, index_col=0, parse_dates=True, squeeze=True) \n",
    "X = dataset.values.astype('float32')\n",
    "history = [x for x in X]\n",
    "validation = read_csv('validation.csv', header=None, index_col=0, parse_dates=True,\n",
    "squeeze=True)\n",
    "y = validation.values.astype('float32')\n",
    "# load model\n",
    "model_fit = ARIMAResults.load('model.pkl')\n",
    "lam = numpy.load('model_lambda.npy')\n",
    "# make first prediction\n",
    "predictions = list()\n",
    "yhat = model_fit.forecast()[0]\n",
    "yhat = boxcox_inverse(yhat, lam) \n",
    "predictions.append(yhat)\n",
    "history.append(y[0])\n",
    "print('>Predicted=%.3f, Expected=%.3f' % (yhat, y[0]))\n",
    "# rolling forecasts\n",
    "for i in range(1, len(y)):\n",
    "    # transform\n",
    "    transformed, lam = boxcox(history)\n",
    "    if lam < -5:\n",
    "        transformed, lam = history, 1\n",
    "    # predict\n",
    "    model = ARIMA(transformed, order=(0,1,2))\n",
    "    model_fit = model.fit(disp=0)\n",
    "    yhat = model_fit.forecast()[0]\n",
    "    # invert transformed prediction\n",
    "    yhat = boxcox_inverse(yhat, lam)\n",
    "    predictions.append(yhat)\n",
    "    # observation\n",
    "    obs = y[i]\n",
    "    history.append(obs)\n",
    "    print('>Predicted=%.3f, Expected=%.3f' % (yhat, obs))\n",
    "# report performance\n",
    "rmse = sqrt(mean_squared_error(y, predictions)) \n",
    "print('RMSE: %.3f' % rmse)\n",
    "pyplot.plot(y)\n",
    "pyplot.plot(predictions, color='red') \n",
    "pyplot.show()\n"
   ]
  },
  {
   "cell_type": "code",
   "execution_count": null,
   "metadata": {},
   "outputs": [],
   "source": []
  }
 ],
 "metadata": {
  "kernelspec": {
   "display_name": "Python 3",
   "language": "python",
   "name": "python3"
  }
 },
 "nbformat": 4,
 "nbformat_minor": 4
}
